{
 "cells": [
  {
   "cell_type": "code",
   "execution_count": 1,
   "metadata": {
    "collapsed": true
   },
   "outputs": [],
   "source": [
    "import numpy as np\n",
    "import pandas as pd"
   ]
  },
  {
   "cell_type": "code",
   "execution_count": 2,
   "metadata": {
    "collapsed": true
   },
   "outputs": [],
   "source": [
    "data_path = 'E:/数据竞赛/消费者人群画像—信用智能评分/datalab/'\n",
    "train_data = pd.read_csv(data_path+'train_dataset.csv',engine='python',encoding='utf-8')\n",
    "test_data = pd.read_csv(data_path+'test_dataset.csv',engine='python',encoding='utf-8')\n",
    "sample = pd.read_csv(data_path+'submit_example.csv',engine='python',encoding='utf-8')"
   ]
  },
  {
   "cell_type": "code",
   "execution_count": 3,
   "metadata": {},
   "outputs": [
    {
     "data": {
      "text/plain": [
       "Index(['用户编码', '用户实名制是否通过核实', '用户年龄', '是否大学生客户', '是否黑名单客户', '是否4G不健康客户',\n",
       "       '用户网龄（月）', '用户最近一次缴费距今时长（月）', '缴费用户最近一次缴费金额（元）', '用户近6个月平均消费值（元）',\n",
       "       '用户账单当月总费用（元）', '用户当月账户余额（元）', '缴费用户当前是否欠费缴费', '用户话费敏感度', '当月通话交往圈人数',\n",
       "       '是否经常逛商场的人', '近三个月月均商场出现次数', '当月是否逛过福州仓山万达', '当月是否到过福州山姆会员店', '当月是否看电影',\n",
       "       '当月是否景点游览', '当月是否体育场馆消费', '当月网购类应用使用次数', '当月物流快递类应用使用次数',\n",
       "       '当月金融理财类应用使用总次数', '当月视频播放类应用使用次数', '当月飞机类应用使用次数', '当月火车类应用使用次数',\n",
       "       '当月旅游资讯类应用使用次数', '信用分'],\n",
       "      dtype='object')"
      ]
     },
     "execution_count": 3,
     "metadata": {},
     "output_type": "execute_result"
    }
   ],
   "source": [
    "train_data.columns"
   ]
  },
  {
   "cell_type": "code",
   "execution_count": 4,
   "metadata": {},
   "outputs": [
    {
     "data": {
      "text/plain": [
       "Index(['用户编码', '用户实名制是否通过核实', '用户年龄', '是否大学生客户', '是否黑名单客户', '是否4G不健康客户',\n",
       "       '用户网龄（月）', '用户最近一次缴费距今时长（月）', '缴费用户最近一次缴费金额（元）', '用户近6个月平均消费值（元）',\n",
       "       '用户账单当月总费用（元）', '用户当月账户余额（元）', '缴费用户当前是否欠费缴费', '用户话费敏感度', '当月通话交往圈人数',\n",
       "       '是否经常逛商场的人', '近三个月月均商场出现次数', '当月是否逛过福州仓山万达', '当月是否到过福州山姆会员店', '当月是否看电影',\n",
       "       '当月是否景点游览', '当月是否体育场馆消费', '当月网购类应用使用次数', '当月物流快递类应用使用次数',\n",
       "       '当月金融理财类应用使用总次数', '当月视频播放类应用使用次数', '当月飞机类应用使用次数', '当月火车类应用使用次数',\n",
       "       '当月旅游资讯类应用使用次数'],\n",
       "      dtype='object')"
      ]
     },
     "execution_count": 4,
     "metadata": {},
     "output_type": "execute_result"
    }
   ],
   "source": [
    "test_data = pd.read_csv(data_path+'test_dataset.csv',engine='python',encoding='utf-8')\n",
    "test_data.columns"
   ]
  },
  {
   "cell_type": "code",
   "execution_count": 5,
   "metadata": {},
   "outputs": [
    {
     "data": {
      "text/html": [
       "<div>\n",
       "<style>\n",
       "    .dataframe thead tr:only-child th {\n",
       "        text-align: right;\n",
       "    }\n",
       "\n",
       "    .dataframe thead th {\n",
       "        text-align: left;\n",
       "    }\n",
       "\n",
       "    .dataframe tbody tr th {\n",
       "        vertical-align: top;\n",
       "    }\n",
       "</style>\n",
       "<table border=\"1\" class=\"dataframe\">\n",
       "  <thead>\n",
       "    <tr style=\"text-align: right;\">\n",
       "      <th></th>\n",
       "      <th>用户编码</th>\n",
       "      <th>用户实名制是否通过核实</th>\n",
       "      <th>用户年龄</th>\n",
       "      <th>是否大学生客户</th>\n",
       "      <th>是否黑名单客户</th>\n",
       "      <th>是否4G不健康客户</th>\n",
       "      <th>用户网龄（月）</th>\n",
       "      <th>用户最近一次缴费距今时长（月）</th>\n",
       "      <th>缴费用户最近一次缴费金额（元）</th>\n",
       "      <th>用户近6个月平均消费值（元）</th>\n",
       "      <th>...</th>\n",
       "      <th>当月是否看电影</th>\n",
       "      <th>当月是否景点游览</th>\n",
       "      <th>当月是否体育场馆消费</th>\n",
       "      <th>当月网购类应用使用次数</th>\n",
       "      <th>当月物流快递类应用使用次数</th>\n",
       "      <th>当月金融理财类应用使用总次数</th>\n",
       "      <th>当月视频播放类应用使用次数</th>\n",
       "      <th>当月飞机类应用使用次数</th>\n",
       "      <th>当月火车类应用使用次数</th>\n",
       "      <th>当月旅游资讯类应用使用次数</th>\n",
       "    </tr>\n",
       "  </thead>\n",
       "  <tbody>\n",
       "    <tr>\n",
       "      <th>0</th>\n",
       "      <td>7171737d49b143d1b38883a39e4a5730</td>\n",
       "      <td>1</td>\n",
       "      <td>30</td>\n",
       "      <td>0</td>\n",
       "      <td>0</td>\n",
       "      <td>0</td>\n",
       "      <td>22</td>\n",
       "      <td>1</td>\n",
       "      <td>99.8</td>\n",
       "      <td>69.53</td>\n",
       "      <td>...</td>\n",
       "      <td>0</td>\n",
       "      <td>1</td>\n",
       "      <td>0</td>\n",
       "      <td>281</td>\n",
       "      <td>0</td>\n",
       "      <td>74</td>\n",
       "      <td>807</td>\n",
       "      <td>0</td>\n",
       "      <td>0</td>\n",
       "      <td>2</td>\n",
       "    </tr>\n",
       "    <tr>\n",
       "      <th>1</th>\n",
       "      <td>3af0a449d5424488912e8fb2bf4b9faa</td>\n",
       "      <td>1</td>\n",
       "      <td>70</td>\n",
       "      <td>0</td>\n",
       "      <td>0</td>\n",
       "      <td>0</td>\n",
       "      <td>84</td>\n",
       "      <td>0</td>\n",
       "      <td>0.0</td>\n",
       "      <td>12.89</td>\n",
       "      <td>...</td>\n",
       "      <td>0</td>\n",
       "      <td>0</td>\n",
       "      <td>0</td>\n",
       "      <td>0</td>\n",
       "      <td>0</td>\n",
       "      <td>0</td>\n",
       "      <td>0</td>\n",
       "      <td>0</td>\n",
       "      <td>0</td>\n",
       "      <td>0</td>\n",
       "    </tr>\n",
       "    <tr>\n",
       "      <th>2</th>\n",
       "      <td>eb2cf02e0d5c4d1294dd73e776dbb441</td>\n",
       "      <td>1</td>\n",
       "      <td>35</td>\n",
       "      <td>0</td>\n",
       "      <td>0</td>\n",
       "      <td>0</td>\n",
       "      <td>237</td>\n",
       "      <td>0</td>\n",
       "      <td>0.0</td>\n",
       "      <td>161.71</td>\n",
       "      <td>...</td>\n",
       "      <td>1</td>\n",
       "      <td>1</td>\n",
       "      <td>1</td>\n",
       "      <td>186</td>\n",
       "      <td>0</td>\n",
       "      <td>943</td>\n",
       "      <td>261</td>\n",
       "      <td>0</td>\n",
       "      <td>0</td>\n",
       "      <td>0</td>\n",
       "    </tr>\n",
       "    <tr>\n",
       "      <th>3</th>\n",
       "      <td>9c0f780ecb254670a11aa9e3f10777c5</td>\n",
       "      <td>1</td>\n",
       "      <td>44</td>\n",
       "      <td>0</td>\n",
       "      <td>0</td>\n",
       "      <td>0</td>\n",
       "      <td>161</td>\n",
       "      <td>0</td>\n",
       "      <td>0.0</td>\n",
       "      <td>229.60</td>\n",
       "      <td>...</td>\n",
       "      <td>1</td>\n",
       "      <td>1</td>\n",
       "      <td>1</td>\n",
       "      <td>244</td>\n",
       "      <td>0</td>\n",
       "      <td>72</td>\n",
       "      <td>591</td>\n",
       "      <td>0</td>\n",
       "      <td>0</td>\n",
       "      <td>3</td>\n",
       "    </tr>\n",
       "    <tr>\n",
       "      <th>4</th>\n",
       "      <td>d794eed46c1e44f785a575f18b3023a5</td>\n",
       "      <td>1</td>\n",
       "      <td>44</td>\n",
       "      <td>0</td>\n",
       "      <td>0</td>\n",
       "      <td>0</td>\n",
       "      <td>153</td>\n",
       "      <td>1</td>\n",
       "      <td>99.8</td>\n",
       "      <td>105.42</td>\n",
       "      <td>...</td>\n",
       "      <td>0</td>\n",
       "      <td>1</td>\n",
       "      <td>1</td>\n",
       "      <td>132</td>\n",
       "      <td>0</td>\n",
       "      <td>0</td>\n",
       "      <td>88</td>\n",
       "      <td>0</td>\n",
       "      <td>0</td>\n",
       "      <td>0</td>\n",
       "    </tr>\n",
       "  </tbody>\n",
       "</table>\n",
       "<p>5 rows × 29 columns</p>\n",
       "</div>"
      ],
      "text/plain": [
       "                               用户编码  用户实名制是否通过核实  用户年龄  是否大学生客户  是否黑名单客户  \\\n",
       "0  7171737d49b143d1b38883a39e4a5730            1    30        0        0   \n",
       "1  3af0a449d5424488912e8fb2bf4b9faa            1    70        0        0   \n",
       "2  eb2cf02e0d5c4d1294dd73e776dbb441            1    35        0        0   \n",
       "3  9c0f780ecb254670a11aa9e3f10777c5            1    44        0        0   \n",
       "4  d794eed46c1e44f785a575f18b3023a5            1    44        0        0   \n",
       "\n",
       "   是否4G不健康客户  用户网龄（月）  用户最近一次缴费距今时长（月）  缴费用户最近一次缴费金额（元）  用户近6个月平均消费值（元）  \\\n",
       "0          0       22                1             99.8           69.53   \n",
       "1          0       84                0              0.0           12.89   \n",
       "2          0      237                0              0.0          161.71   \n",
       "3          0      161                0              0.0          229.60   \n",
       "4          0      153                1             99.8          105.42   \n",
       "\n",
       "       ...        当月是否看电影  当月是否景点游览  当月是否体育场馆消费  当月网购类应用使用次数  当月物流快递类应用使用次数  \\\n",
       "0      ...              0         1           0          281              0   \n",
       "1      ...              0         0           0            0              0   \n",
       "2      ...              1         1           1          186              0   \n",
       "3      ...              1         1           1          244              0   \n",
       "4      ...              0         1           1          132              0   \n",
       "\n",
       "   当月金融理财类应用使用总次数  当月视频播放类应用使用次数  当月飞机类应用使用次数  当月火车类应用使用次数  当月旅游资讯类应用使用次数  \n",
       "0              74            807            0            0              2  \n",
       "1               0              0            0            0              0  \n",
       "2             943            261            0            0              0  \n",
       "3              72            591            0            0              3  \n",
       "4               0             88            0            0              0  \n",
       "\n",
       "[5 rows x 29 columns]"
      ]
     },
     "execution_count": 5,
     "metadata": {},
     "output_type": "execute_result"
    }
   ],
   "source": [
    "test_data.head()"
   ]
  },
  {
   "cell_type": "code",
   "execution_count": 6,
   "metadata": {},
   "outputs": [
    {
     "data": {
      "text/html": [
       "<div>\n",
       "<style>\n",
       "    .dataframe thead tr:only-child th {\n",
       "        text-align: right;\n",
       "    }\n",
       "\n",
       "    .dataframe thead th {\n",
       "        text-align: left;\n",
       "    }\n",
       "\n",
       "    .dataframe tbody tr th {\n",
       "        vertical-align: top;\n",
       "    }\n",
       "</style>\n",
       "<table border=\"1\" class=\"dataframe\">\n",
       "  <thead>\n",
       "    <tr style=\"text-align: right;\">\n",
       "      <th></th>\n",
       "      <th>用户编码</th>\n",
       "      <th>用户实名制是否通过核实</th>\n",
       "      <th>用户年龄</th>\n",
       "      <th>是否大学生客户</th>\n",
       "      <th>是否黑名单客户</th>\n",
       "      <th>是否4G不健康客户</th>\n",
       "      <th>用户网龄（月）</th>\n",
       "      <th>用户最近一次缴费距今时长（月）</th>\n",
       "      <th>缴费用户最近一次缴费金额（元）</th>\n",
       "      <th>用户近6个月平均消费值（元）</th>\n",
       "      <th>...</th>\n",
       "      <th>当月是否景点游览</th>\n",
       "      <th>当月是否体育场馆消费</th>\n",
       "      <th>当月网购类应用使用次数</th>\n",
       "      <th>当月物流快递类应用使用次数</th>\n",
       "      <th>当月金融理财类应用使用总次数</th>\n",
       "      <th>当月视频播放类应用使用次数</th>\n",
       "      <th>当月飞机类应用使用次数</th>\n",
       "      <th>当月火车类应用使用次数</th>\n",
       "      <th>当月旅游资讯类应用使用次数</th>\n",
       "      <th>信用分</th>\n",
       "    </tr>\n",
       "  </thead>\n",
       "  <tbody>\n",
       "    <tr>\n",
       "      <th>0</th>\n",
       "      <td>a4651f98c82948b186bdcdc8108381b4</td>\n",
       "      <td>1</td>\n",
       "      <td>44</td>\n",
       "      <td>0</td>\n",
       "      <td>0</td>\n",
       "      <td>0</td>\n",
       "      <td>186</td>\n",
       "      <td>1</td>\n",
       "      <td>99.80</td>\n",
       "      <td>163.86</td>\n",
       "      <td>...</td>\n",
       "      <td>1</td>\n",
       "      <td>1</td>\n",
       "      <td>713</td>\n",
       "      <td>0</td>\n",
       "      <td>2740</td>\n",
       "      <td>7145</td>\n",
       "      <td>0</td>\n",
       "      <td>0</td>\n",
       "      <td>30</td>\n",
       "      <td>664</td>\n",
       "    </tr>\n",
       "    <tr>\n",
       "      <th>1</th>\n",
       "      <td>aeb10247db4e4d67b2550bbc42ff9827</td>\n",
       "      <td>1</td>\n",
       "      <td>18</td>\n",
       "      <td>0</td>\n",
       "      <td>0</td>\n",
       "      <td>1</td>\n",
       "      <td>5</td>\n",
       "      <td>1</td>\n",
       "      <td>29.94</td>\n",
       "      <td>153.28</td>\n",
       "      <td>...</td>\n",
       "      <td>0</td>\n",
       "      <td>0</td>\n",
       "      <td>414</td>\n",
       "      <td>0</td>\n",
       "      <td>2731</td>\n",
       "      <td>44862</td>\n",
       "      <td>0</td>\n",
       "      <td>0</td>\n",
       "      <td>0</td>\n",
       "      <td>530</td>\n",
       "    </tr>\n",
       "    <tr>\n",
       "      <th>2</th>\n",
       "      <td>5af23a1e0e77410abb25e9a7eee510aa</td>\n",
       "      <td>1</td>\n",
       "      <td>47</td>\n",
       "      <td>0</td>\n",
       "      <td>0</td>\n",
       "      <td>0</td>\n",
       "      <td>145</td>\n",
       "      <td>1</td>\n",
       "      <td>49.90</td>\n",
       "      <td>109.64</td>\n",
       "      <td>...</td>\n",
       "      <td>0</td>\n",
       "      <td>0</td>\n",
       "      <td>3391</td>\n",
       "      <td>0</td>\n",
       "      <td>0</td>\n",
       "      <td>4804</td>\n",
       "      <td>0</td>\n",
       "      <td>0</td>\n",
       "      <td>1</td>\n",
       "      <td>643</td>\n",
       "    </tr>\n",
       "    <tr>\n",
       "      <th>3</th>\n",
       "      <td>43c64379d3c24a15b8478851b22049e4</td>\n",
       "      <td>1</td>\n",
       "      <td>55</td>\n",
       "      <td>0</td>\n",
       "      <td>0</td>\n",
       "      <td>0</td>\n",
       "      <td>234</td>\n",
       "      <td>1</td>\n",
       "      <td>99.80</td>\n",
       "      <td>92.97</td>\n",
       "      <td>...</td>\n",
       "      <td>1</td>\n",
       "      <td>1</td>\n",
       "      <td>500</td>\n",
       "      <td>0</td>\n",
       "      <td>1931</td>\n",
       "      <td>3141</td>\n",
       "      <td>0</td>\n",
       "      <td>0</td>\n",
       "      <td>5</td>\n",
       "      <td>649</td>\n",
       "    </tr>\n",
       "    <tr>\n",
       "      <th>4</th>\n",
       "      <td>f1687f3b8a6f4910bd0b13eb634056e2</td>\n",
       "      <td>1</td>\n",
       "      <td>40</td>\n",
       "      <td>0</td>\n",
       "      <td>0</td>\n",
       "      <td>0</td>\n",
       "      <td>76</td>\n",
       "      <td>1</td>\n",
       "      <td>49.90</td>\n",
       "      <td>95.47</td>\n",
       "      <td>...</td>\n",
       "      <td>1</td>\n",
       "      <td>0</td>\n",
       "      <td>522</td>\n",
       "      <td>0</td>\n",
       "      <td>64</td>\n",
       "      <td>59</td>\n",
       "      <td>0</td>\n",
       "      <td>0</td>\n",
       "      <td>0</td>\n",
       "      <td>648</td>\n",
       "    </tr>\n",
       "  </tbody>\n",
       "</table>\n",
       "<p>5 rows × 30 columns</p>\n",
       "</div>"
      ],
      "text/plain": [
       "                               用户编码  用户实名制是否通过核实  用户年龄  是否大学生客户  是否黑名单客户  \\\n",
       "0  a4651f98c82948b186bdcdc8108381b4            1    44        0        0   \n",
       "1  aeb10247db4e4d67b2550bbc42ff9827            1    18        0        0   \n",
       "2  5af23a1e0e77410abb25e9a7eee510aa            1    47        0        0   \n",
       "3  43c64379d3c24a15b8478851b22049e4            1    55        0        0   \n",
       "4  f1687f3b8a6f4910bd0b13eb634056e2            1    40        0        0   \n",
       "\n",
       "   是否4G不健康客户  用户网龄（月）  用户最近一次缴费距今时长（月）  缴费用户最近一次缴费金额（元）  用户近6个月平均消费值（元） ...   \\\n",
       "0          0      186                1            99.80          163.86 ...    \n",
       "1          1        5                1            29.94          153.28 ...    \n",
       "2          0      145                1            49.90          109.64 ...    \n",
       "3          0      234                1            99.80           92.97 ...    \n",
       "4          0       76                1            49.90           95.47 ...    \n",
       "\n",
       "   当月是否景点游览  当月是否体育场馆消费  当月网购类应用使用次数  当月物流快递类应用使用次数  当月金融理财类应用使用总次数  \\\n",
       "0         1           1          713              0            2740   \n",
       "1         0           0          414              0            2731   \n",
       "2         0           0         3391              0               0   \n",
       "3         1           1          500              0            1931   \n",
       "4         1           0          522              0              64   \n",
       "\n",
       "   当月视频播放类应用使用次数  当月飞机类应用使用次数  当月火车类应用使用次数  当月旅游资讯类应用使用次数  信用分  \n",
       "0           7145            0            0             30  664  \n",
       "1          44862            0            0              0  530  \n",
       "2           4804            0            0              1  643  \n",
       "3           3141            0            0              5  649  \n",
       "4             59            0            0              0  648  \n",
       "\n",
       "[5 rows x 30 columns]"
      ]
     },
     "execution_count": 6,
     "metadata": {},
     "output_type": "execute_result"
    }
   ],
   "source": [
    "train_data.head()"
   ]
  },
  {
   "cell_type": "code",
   "execution_count": 7,
   "metadata": {},
   "outputs": [
    {
     "name": "stdout",
     "output_type": "stream",
     "text": [
      "<class 'pandas.core.frame.DataFrame'>\n",
      "RangeIndex: 50000 entries, 0 to 49999\n",
      "Data columns (total 30 columns):\n",
      "用户编码               50000 non-null object\n",
      "用户实名制是否通过核实        50000 non-null int64\n",
      "用户年龄               50000 non-null int64\n",
      "是否大学生客户            50000 non-null int64\n",
      "是否黑名单客户            50000 non-null int64\n",
      "是否4G不健康客户          50000 non-null int64\n",
      "用户网龄（月）            50000 non-null int64\n",
      "用户最近一次缴费距今时长（月）    50000 non-null int64\n",
      "缴费用户最近一次缴费金额（元）    50000 non-null float64\n",
      "用户近6个月平均消费值（元）     50000 non-null float64\n",
      "用户账单当月总费用（元）       50000 non-null float64\n",
      "用户当月账户余额（元）        50000 non-null int64\n",
      "缴费用户当前是否欠费缴费       50000 non-null int64\n",
      "用户话费敏感度            50000 non-null int64\n",
      "当月通话交往圈人数          50000 non-null int64\n",
      "是否经常逛商场的人          50000 non-null int64\n",
      "近三个月月均商场出现次数       50000 non-null int64\n",
      "当月是否逛过福州仓山万达       50000 non-null int64\n",
      "当月是否到过福州山姆会员店      50000 non-null int64\n",
      "当月是否看电影            50000 non-null int64\n",
      "当月是否景点游览           50000 non-null int64\n",
      "当月是否体育场馆消费         50000 non-null int64\n",
      "当月网购类应用使用次数        50000 non-null int64\n",
      "当月物流快递类应用使用次数      50000 non-null int64\n",
      "当月金融理财类应用使用总次数     50000 non-null int64\n",
      "当月视频播放类应用使用次数      50000 non-null int64\n",
      "当月飞机类应用使用次数        50000 non-null int64\n",
      "当月火车类应用使用次数        50000 non-null int64\n",
      "当月旅游资讯类应用使用次数      50000 non-null int64\n",
      "信用分                50000 non-null int64\n",
      "dtypes: float64(3), int64(26), object(1)\n",
      "memory usage: 11.4+ MB\n"
     ]
    }
   ],
   "source": [
    "train_data.info()"
   ]
  },
  {
   "cell_type": "code",
   "execution_count": 8,
   "metadata": {
    "collapsed": true
   },
   "outputs": [],
   "source": [
    "x_cols = [col for col in train_data.columns if col not in ['信用分'] and train_data[col].dtype!=object]\n",
    "labels = []\n",
    "values = []\n",
    "\n",
    "for col in x_cols:\n",
    "    labels.append(col)\n",
    "    values.append(np.corrcoef(train_data[col].values,train_data['信用分'].values)[0,1])"
   ]
  },
  {
   "cell_type": "code",
   "execution_count": 9,
   "metadata": {},
   "outputs": [
    {
     "data": {
      "text/plain": [
       "array([[1.        , 0.03778044],\n",
       "       [0.03778044, 1.        ]])"
      ]
     },
     "execution_count": 9,
     "metadata": {},
     "output_type": "execute_result"
    }
   ],
   "source": [
    "np.corrcoef(train_data['用户年龄'].values,train_data['信用分'].values)"
   ]
  },
  {
   "cell_type": "code",
   "execution_count": 10,
   "metadata": {
    "collapsed": true
   },
   "outputs": [],
   "source": [
    "corr_df = pd.DataFrame({'col_values':labels,'corr_values':values})\n",
    "corr_df = corr_df.sort_values(by = 'corr_values',ascending=False)\n",
    "#corr_df"
   ]
  },
  {
   "cell_type": "code",
   "execution_count": 11,
   "metadata": {},
   "outputs": [
    {
     "data": {
      "text/html": [
       "<div>\n",
       "<style>\n",
       "    .dataframe thead tr:only-child th {\n",
       "        text-align: right;\n",
       "    }\n",
       "\n",
       "    .dataframe thead th {\n",
       "        text-align: left;\n",
       "    }\n",
       "\n",
       "    .dataframe tbody tr th {\n",
       "        vertical-align: top;\n",
       "    }\n",
       "</style>\n",
       "<table border=\"1\" class=\"dataframe\">\n",
       "  <thead>\n",
       "    <tr style=\"text-align: right;\">\n",
       "      <th></th>\n",
       "      <th>col_values</th>\n",
       "      <th>corr_values</th>\n",
       "    </tr>\n",
       "  </thead>\n",
       "  <tbody>\n",
       "    <tr>\n",
       "      <th>5</th>\n",
       "      <td>用户网龄（月）</td>\n",
       "      <td>0.546893</td>\n",
       "    </tr>\n",
       "    <tr>\n",
       "      <th>8</th>\n",
       "      <td>用户近6个月平均消费值（元）</td>\n",
       "      <td>0.493749</td>\n",
       "    </tr>\n",
       "    <tr>\n",
       "      <th>13</th>\n",
       "      <td>当月通话交往圈人数</td>\n",
       "      <td>0.477302</td>\n",
       "    </tr>\n",
       "    <tr>\n",
       "      <th>9</th>\n",
       "      <td>用户账单当月总费用（元）</td>\n",
       "      <td>0.443064</td>\n",
       "    </tr>\n",
       "    <tr>\n",
       "      <th>7</th>\n",
       "      <td>缴费用户最近一次缴费金额（元）</td>\n",
       "      <td>0.333539</td>\n",
       "    </tr>\n",
       "    <tr>\n",
       "      <th>19</th>\n",
       "      <td>当月是否景点游览</td>\n",
       "      <td>0.270870</td>\n",
       "    </tr>\n",
       "    <tr>\n",
       "      <th>20</th>\n",
       "      <td>当月是否体育场馆消费</td>\n",
       "      <td>0.233067</td>\n",
       "    </tr>\n",
       "    <tr>\n",
       "      <th>6</th>\n",
       "      <td>用户最近一次缴费距今时长（月）</td>\n",
       "      <td>0.215252</td>\n",
       "    </tr>\n",
       "    <tr>\n",
       "      <th>15</th>\n",
       "      <td>近三个月月均商场出现次数</td>\n",
       "      <td>0.197827</td>\n",
       "    </tr>\n",
       "    <tr>\n",
       "      <th>18</th>\n",
       "      <td>当月是否看电影</td>\n",
       "      <td>0.165377</td>\n",
       "    </tr>\n",
       "    <tr>\n",
       "      <th>23</th>\n",
       "      <td>当月金融理财类应用使用总次数</td>\n",
       "      <td>0.113808</td>\n",
       "    </tr>\n",
       "    <tr>\n",
       "      <th>14</th>\n",
       "      <td>是否经常逛商场的人</td>\n",
       "      <td>0.113114</td>\n",
       "    </tr>\n",
       "    <tr>\n",
       "      <th>3</th>\n",
       "      <td>是否黑名单客户</td>\n",
       "      <td>0.110549</td>\n",
       "    </tr>\n",
       "    <tr>\n",
       "      <th>11</th>\n",
       "      <td>缴费用户当前是否欠费缴费</td>\n",
       "      <td>0.089803</td>\n",
       "    </tr>\n",
       "    <tr>\n",
       "      <th>10</th>\n",
       "      <td>用户当月账户余额（元）</td>\n",
       "      <td>0.081096</td>\n",
       "    </tr>\n",
       "    <tr>\n",
       "      <th>24</th>\n",
       "      <td>当月视频播放类应用使用次数</td>\n",
       "      <td>0.064864</td>\n",
       "    </tr>\n",
       "    <tr>\n",
       "      <th>17</th>\n",
       "      <td>当月是否到过福州山姆会员店</td>\n",
       "      <td>0.054110</td>\n",
       "    </tr>\n",
       "    <tr>\n",
       "      <th>16</th>\n",
       "      <td>当月是否逛过福州仓山万达</td>\n",
       "      <td>0.051375</td>\n",
       "    </tr>\n",
       "    <tr>\n",
       "      <th>1</th>\n",
       "      <td>用户年龄</td>\n",
       "      <td>0.037780</td>\n",
       "    </tr>\n",
       "    <tr>\n",
       "      <th>21</th>\n",
       "      <td>当月网购类应用使用次数</td>\n",
       "      <td>0.033495</td>\n",
       "    </tr>\n",
       "    <tr>\n",
       "      <th>26</th>\n",
       "      <td>当月火车类应用使用次数</td>\n",
       "      <td>0.032554</td>\n",
       "    </tr>\n",
       "    <tr>\n",
       "      <th>0</th>\n",
       "      <td>用户实名制是否通过核实</td>\n",
       "      <td>0.028927</td>\n",
       "    </tr>\n",
       "    <tr>\n",
       "      <th>2</th>\n",
       "      <td>是否大学生客户</td>\n",
       "      <td>0.025312</td>\n",
       "    </tr>\n",
       "    <tr>\n",
       "      <th>27</th>\n",
       "      <td>当月旅游资讯类应用使用次数</td>\n",
       "      <td>0.020780</td>\n",
       "    </tr>\n",
       "    <tr>\n",
       "      <th>25</th>\n",
       "      <td>当月飞机类应用使用次数</td>\n",
       "      <td>0.014362</td>\n",
       "    </tr>\n",
       "    <tr>\n",
       "      <th>22</th>\n",
       "      <td>当月物流快递类应用使用次数</td>\n",
       "      <td>0.001054</td>\n",
       "    </tr>\n",
       "    <tr>\n",
       "      <th>4</th>\n",
       "      <td>是否4G不健康客户</td>\n",
       "      <td>-0.147162</td>\n",
       "    </tr>\n",
       "    <tr>\n",
       "      <th>12</th>\n",
       "      <td>用户话费敏感度</td>\n",
       "      <td>-0.239400</td>\n",
       "    </tr>\n",
       "  </tbody>\n",
       "</table>\n",
       "</div>"
      ],
      "text/plain": [
       "         col_values  corr_values\n",
       "5           用户网龄（月）     0.546893\n",
       "8    用户近6个月平均消费值（元）     0.493749\n",
       "13        当月通话交往圈人数     0.477302\n",
       "9      用户账单当月总费用（元）     0.443064\n",
       "7   缴费用户最近一次缴费金额（元）     0.333539\n",
       "19         当月是否景点游览     0.270870\n",
       "20       当月是否体育场馆消费     0.233067\n",
       "6   用户最近一次缴费距今时长（月）     0.215252\n",
       "15     近三个月月均商场出现次数     0.197827\n",
       "18          当月是否看电影     0.165377\n",
       "23   当月金融理财类应用使用总次数     0.113808\n",
       "14        是否经常逛商场的人     0.113114\n",
       "3           是否黑名单客户     0.110549\n",
       "11     缴费用户当前是否欠费缴费     0.089803\n",
       "10      用户当月账户余额（元）     0.081096\n",
       "24    当月视频播放类应用使用次数     0.064864\n",
       "17    当月是否到过福州山姆会员店     0.054110\n",
       "16     当月是否逛过福州仓山万达     0.051375\n",
       "1              用户年龄     0.037780\n",
       "21      当月网购类应用使用次数     0.033495\n",
       "26      当月火车类应用使用次数     0.032554\n",
       "0       用户实名制是否通过核实     0.028927\n",
       "2           是否大学生客户     0.025312\n",
       "27    当月旅游资讯类应用使用次数     0.020780\n",
       "25      当月飞机类应用使用次数     0.014362\n",
       "22    当月物流快递类应用使用次数     0.001054\n",
       "4         是否4G不健康客户    -0.147162\n",
       "12          用户话费敏感度    -0.239400"
      ]
     },
     "execution_count": 11,
     "metadata": {},
     "output_type": "execute_result"
    }
   ],
   "source": [
    "corr_df"
   ]
  },
  {
   "cell_type": "code",
   "execution_count": null,
   "metadata": {
    "collapsed": true
   },
   "outputs": [],
   "source": [
    "#画信用分的密度曲线"
   ]
  },
  {
   "cell_type": "code",
   "execution_count": 20,
   "metadata": {
    "collapsed": true
   },
   "outputs": [],
   "source": [
    "#def produce_offline_feature(row):\n",
    "#    if (row%10==0)&(row!=0):\n",
    "#       return 1\n",
    "#    else:\n",
    "#       return 0\n",
    "#train_data['不同充值途径']=train_data['缴费用户最近一次缴费金额（元）'].apply(produce_offline_feature)"
   ]
  },
  {
   "cell_type": "code",
   "execution_count": 12,
   "metadata": {},
   "outputs": [
    {
     "name": "stderr",
     "output_type": "stream",
     "text": [
      "D:\\a\\lib\\site-packages\\ipykernel_launcher.py:3: SettingWithCopyWarning: \n",
      "A value is trying to be set on a copy of a slice from a DataFrame\n",
      "\n",
      "See the caveats in the documentation: http://pandas.pydata.org/pandas-docs/stable/indexing.html#indexing-view-versus-copy\n",
      "  This is separate from the ipykernel package so we can avoid doing imports until\n"
     ]
    }
   ],
   "source": [
    "def produce_offline_feature(train_data):\n",
    "    train_data['不同充值途径']=0\n",
    "    train_data['不同充值途径'][(train_data['缴费用户最近一次缴费金额（元）']%10==0)&(train_data['缴费用户最近一次缴费金额（元）']!=0)]=1\n",
    "    return train_data\n",
    "\n",
    "train_data=produce_offline_feature(train_data)\n",
    "test_data=produce_offline_feature(test_data)   "
   ]
  },
  {
   "cell_type": "code",
   "execution_count": 13,
   "metadata": {
    "collapsed": true
   },
   "outputs": [],
   "source": [
    "##看importance，当月话费 和最近半年平均话费都很高，算一下当月/半年 -->稳定性\n",
    "def produce_fee_rate(train_data):\n",
    "    train_data['当前费用稳定性']=train_data['用户账单当月总费用（元）']/(train_data['用户近6个月平均消费值（元）']+1)\n",
    "    \n",
    "    ##当月话费/当月账户余额\n",
    "    train_data['用户余额比例']=train_data['用户账单当月总费用（元）']/(train_data['用户当月账户余额（元）']+1)\n",
    "    return train_data\n",
    "\n",
    "train_data=produce_fee_rate(train_data)\n",
    "test_data=produce_fee_rate(test_data)"
   ]
  },
  {
   "cell_type": "code",
   "execution_count": 14,
   "metadata": {
    "collapsed": true
   },
   "outputs": [],
   "source": [
    "def get_features(data):\n",
    "    data.loc[data['用户年龄']==0,'用户年龄']=data['用户年龄'].mode()\n",
    "    data['缴费金额是否能覆盖当月账单']=data['缴费用户最近一次缴费金额（元）']-data['用户账单当月总费用（元）']\n",
    "    data['最近一次缴费是否超过平均消费额']=data['缴费用户最近一次缴费金额（元）']-data['用户近6个月平均消费值（元）']\n",
    "    data['当月账单是否超过平均消费额']=data['用户账单当月总费用（元）']-data['用户近6个月平均消费值（元）']\n",
    "    \n",
    "    def map_age(x):\n",
    "        if x<=18:\n",
    "            return 1\n",
    "        elif x<=30:\n",
    "            return 2\n",
    "        elif x<=35:\n",
    "            return 3\n",
    "        elif x<=45:\n",
    "            return 4\n",
    "        else:\n",
    "            return 5\n",
    "        \n",
    "    data['是否大学生_黑名单']=data['是否大学生客户']+data['是否黑名单客户']\n",
    "    data['是否去过高档商场']=data['当月是否到过福州山姆会员店']+data['当月是否逛过福州仓山万达']\n",
    "    data['是否去过高档商场']=data['是否去过高档商场'].map(lambda x:1 if x>=1 else 0)\n",
    "    data['是否_商场_电影']=data['是否去过高档商场']*data['当月是否看电影']\n",
    "    data['是否_商场_体育馆']=data['是否去过高档商场']*data['当月是否体育场馆消费']\n",
    "    data['是否_商场_旅游']=data['是否去过高档商场']*data['当月是否景点游览']\n",
    "    data['是否_电影_体育馆']=data['当月是否看电影']*data['当月是否体育场馆消费']\n",
    "    data['是否_电影_旅游']=data['当月是否看电影']*data['当月是否景点游览']\n",
    "    data['是否_旅游_体育馆']=data['当月是否景点游览']*data['当月是否体育场馆消费']\n",
    "    \n",
    "    data['是否_商场_旅游_体育馆']=data['是否去过高档商场']*data['当月是否景点游览']*data['当月是否体育场馆消费']\n",
    "    data['是否_商场_电影_体育馆']=data['是否去过高档商场']*data['当月是否看电影']*data['当月是否体育场馆消费']\n",
    "    data['是否_商场_电影_旅游']=data['是否去过高档商场']*data['当月是否看电影']*data['当月是否景点游览']\n",
    "    data['是否_体育馆_电影_旅游']=data['当月是否体育场馆消费']*data['当月是否看电影']*data['当月是否景点游览']\n",
    "    \n",
    "    data['是否_商场_体育馆_电影_旅游']=data['是否去过高档商场']*data['当月是否体育场馆消费']*data['当月是否看电影']*data['当月是否景点游览']\n",
    "    \n",
    "    discretize_features=['交通类应用使用次数','当月物流快递类应用使用次数','当月飞机类应用使用次数','当月火车类应用使用次数','当月旅游资讯类应用使用次数']\n",
    "    data['交通类应用使用次数']=data['当月飞机类应用使用次数']+data['当月火车类应用使用次数']\n",
    "    \n",
    "    data['6个月平均占比总费用']=data['用户近6个月平均消费值（元）']/data['用户账单当月总费用（元）']+1\n",
    "    \n",
    "    def map_discretize(x):\n",
    "        if x==0:\n",
    "            return 0\n",
    "        elif x<=5:\n",
    "            return 1\n",
    "        elif x<=15:\n",
    "            return 2\n",
    "        elif x<=50:\n",
    "            return 3\n",
    "        elif x<=100:\n",
    "            return 4\n",
    "        else:\n",
    "            return 5\n",
    "        \n",
    "        for col in discretize_features:\n",
    "            #data[col]=data[col].apply(map_discretize)\n",
    "            data[col]=data[col].map(lambda x:map_discretize(x))\n",
    "            \n",
    "        return data\n",
    "    \n",
    "train_data1=get_features(train_data)\n",
    "test_data1=get_features(test_data)"
   ]
  },
  {
   "cell_type": "code",
   "execution_count": 15,
   "metadata": {},
   "outputs": [
    {
     "data": {
      "text/plain": [
       "(50000, 51)"
      ]
     },
     "execution_count": 15,
     "metadata": {},
     "output_type": "execute_result"
    }
   ],
   "source": [
    "train_data.shape"
   ]
  },
  {
   "cell_type": "code",
   "execution_count": 16,
   "metadata": {},
   "outputs": [
    {
     "name": "stderr",
     "output_type": "stream",
     "text": [
      "D:\\a\\lib\\site-packages\\numpy\\lib\\function_base.py:4291: RuntimeWarning: Invalid value encountered in percentile\n",
      "  interpolation=interpolation)\n"
     ]
    }
   ],
   "source": [
    "def base_process(data):\n",
    "    transform_value_feature=['用户年龄','用户网龄（月）','当月通话交往圈人数','近三个月月均商场出现次数','当月网购类应用使用次数','当月物流快递类应用使用次数'\n",
    "                            ,'当月金融理财类应用使用总次数','当月视频播放类应用使用次数','当月飞机类应用使用次数','当月火车类应用使用次数','当月旅游资讯类应用使用次数']\n",
    "    user_fea=['缴费用户最近一次缴费金额（元）','用户近6个月平均消费值（元）','用户账单当月总费用（元）','用户当月账户余额（元）']\n",
    "    log_features=['当月网购类应用使用次数','当月金融理财类应用使用总次数','当月物流快递类应用使用次数','当月视频播放类应用使用次数']\n",
    "    \n",
    "    #处理离散点\n",
    "    for col in transform_value_feature+user_fea+log_features:\n",
    "        ulimit = np.percentile(train_data[col].values,99.9)\n",
    "        llimit = np.percentile(train_data[col].values,0.1)\n",
    "        train_data.loc[train_data[col]<ulimit,col]=ulimit\n",
    "        train_data.loc[train_data[col]>llimit,col]=llimit\n",
    "        \n",
    "    for col in user_fea+log_features:\n",
    "        data[col]=data[col].map(lambda x:np.log1p(x))\n",
    "#在数据预处理时首先可以对偏度比较大的数据用log1p函数进行转化，使其更加服从高斯分布，此步处理可能会使我们后续的分类结果得到一个更好的结果；\n",
    "#平滑处理很容易被忽略掉，导致模型的结果总是达不到一定的标准，同样使用逼格更高的log1p能避免复值得问题——复值指一个自变量对应多个因变量；    \n",
    "    return data\n",
    "\n",
    "train_data=base_process(train_data)\n",
    "test_data=base_process(test_data)"
   ]
  },
  {
   "cell_type": "code",
   "execution_count": 17,
   "metadata": {},
   "outputs": [
    {
     "data": {
      "text/plain": [
       "array(['aeb10247db4e4d67b2550bbc42ff9827', 1, 18.0, 0, 0, 1, 5.0, 1, 0.0,\n",
       "       2.1972245773362196, 1.1313924340249193, 2.3978952727983707, 0, 3,\n",
       "       1.0, 1, 0.0, 0, 0, 0, 0, 0, 0.0, 0.0, 0.0, 0.0, 0.0, 0.0, 0.0, 530,\n",
       "       0, 0.9404977962146746, 1.3072072072072072, -115.16, -123.34,\n",
       "       -8.180000000000007, 0, 0, 0, 0, 0, 0, 0, 0, 0, 0, 0, 0, 0, 0,\n",
       "       2.0563749138525154], dtype=object)"
      ]
     },
     "execution_count": 17,
     "metadata": {},
     "output_type": "execute_result"
    }
   ],
   "source": [
    "train_data.iloc[1].values"
   ]
  },
  {
   "cell_type": "code",
   "execution_count": null,
   "metadata": {
    "collapsed": true
   },
   "outputs": [],
   "source": [
    "#特征重要度显示函数"
   ]
  },
  {
   "cell_type": "code",
   "execution_count": 28,
   "metadata": {
    "collapsed": true
   },
   "outputs": [],
   "source": [
    "params = { 'boosting_type': 'gbdt', \n",
    "    'objective': 'regression', \n",
    "    'learning_rate': 0.05, \n",
    "    'num_leaves': 50, \n",
    "    'max_depth': 6,    'subsample': 0.8, \n",
    "    'colsample_bytree': 0.8, \n",
    "    }"
   ]
  },
  {
   "cell_type": "code",
   "execution_count": 29,
   "metadata": {},
   "outputs": [
    {
     "name": "stdout",
     "output_type": "stream",
     "text": [
      "fold:  0  training\n",
      "fold:  1  training\n",
      "fold:  2  training\n",
      "fold:  3  training\n",
      "fold:  4  training\n"
     ]
    }
   ],
   "source": [
    "from sklearn.model_selection import KFold\n",
    "NFOLDS=5\n",
    "train_label = train_data['信用分']\n",
    "kfold=KFold(n_splits=NFOLDS, shuffle=True, random_state=2019)\n",
    "kf=kfold.split(train_data,train_label)\n",
    "\n",
    "train_data_use = train_data.drop(['用户编码','信用分'], axis=1)\n",
    "test_data_use = test_data.drop(['用户编码'], axis=1)\n",
    "\n",
    "for i, (train_fold, validate) in enumerate(kf):\n",
    "    print('fold: ',i, ' training')\n",
    "    X_train=train_data_use.iloc[train_fold, :]\n",
    "    X_validate=train_data_use.iloc[validate, :]\n",
    "    label_train=train_label[train_fold]\n",
    "    label_validate=train_label[validate]\n"
   ]
  },
  {
   "cell_type": "code",
   "execution_count": 30,
   "metadata": {},
   "outputs": [
    {
     "name": "stdout",
     "output_type": "stream",
     "text": [
      "[50]\tcv_agg's rmse: 33.6061 + 0.402924\n",
      "[100]\tcv_agg's rmse: 31.9842 + 0.363198\n",
      "[150]\tcv_agg's rmse: 31.394 + 0.317533\n",
      "[200]\tcv_agg's rmse: 31.0348 + 0.280323\n",
      "[250]\tcv_agg's rmse: 30.8666 + 0.271171\n",
      "[300]\tcv_agg's rmse: 30.7751 + 0.261647\n",
      "[350]\tcv_agg's rmse: 30.7257 + 0.253479\n",
      "[400]\tcv_agg's rmse: 30.6921 + 0.247907\n",
      "[450]\tcv_agg's rmse: 30.6788 + 0.24603\n",
      "[500]\tcv_agg's rmse: 30.6752 + 0.250601\n",
      "[550]\tcv_agg's rmse: 30.6709 + 0.248732\n",
      "best n_estimators: 510\n",
      "best cv score: 30.66918461115165\n"
     ]
    }
   ],
   "source": [
    "import lightgbm as lgb\n",
    "data_train = lgb.Dataset(X_train, label_train, silent=True)\n",
    "cv_results = lgb.cv(\n",
    "    params, data_train, num_boost_round=1000, nfold=5, stratified=False, shuffle=True, metrics='rmse',\n",
    "    early_stopping_rounds=50, verbose_eval=50, show_stdv=True, seed=0)\n",
    "\n",
    "print('best n_estimators:', len(cv_results['rmse-mean']))\n",
    "print('best cv score:', cv_results['rmse-mean'][-1])"
   ]
  },
  {
   "cell_type": "code",
   "execution_count": null,
   "metadata": {
    "collapsed": true
   },
   "outputs": [],
   "source": [
    "学习率为0.1时，最优的迭代次数为225\n",
    "学习率为0.05时，最优的迭代次数为510"
   ]
  },
  {
   "cell_type": "code",
   "execution_count": null,
   "metadata": {
    "collapsed": true
   },
   "outputs": [],
   "source": [
    "max_depth ：设置树深度，深度越大可能过拟合\n",
    "num_leaves：叶节点的个数。因为 LightGBM 使用的是 leaf-wise 的算法，因此在调节树的复杂程度时，\n",
    "使用的是 num_leaves 而不是 max_depth。\n",
    "大致换算关系：num_leaves = 2^(max_depth)，但是它的值的设置应该小于 2^(max_depth)，否则可能会导致过拟合。"
   ]
  },
  {
   "cell_type": "code",
   "execution_count": 48,
   "metadata": {
    "collapsed": true
   },
   "outputs": [],
   "source": [
    "from sklearn.model_selection import GridSearchCV\n",
    "\n",
    "### 我们可以创建lgb的sklearn模型，使用上面选择的(学习率，评估器数目)\n",
    "model_lgb = lgb.LGBMRegressor(objective='regression',num_leaves=50,\n",
    "                              learning_rate=0.05, n_estimators=510, max_depth=6,\n",
    "                              metric='rmse', bagging_fraction = 0.8,feature_fraction = 0.8)\n",
    "\n",
    "params_test1={    'max_depth': range(3,8,2),    'num_leaves':range(50,170,30)\n",
    "}\n",
    "gsearch1 = GridSearchCV(estimator=model_lgb, param_grid=params_test1, scoring='neg_mean_squared_error', cv=5, verbose=1, n_jobs=4)\n"
   ]
  },
  {
   "cell_type": "code",
   "execution_count": 49,
   "metadata": {},
   "outputs": [
    {
     "name": "stdout",
     "output_type": "stream",
     "text": [
      "Fitting 5 folds for each of 12 candidates, totalling 60 fits\n"
     ]
    },
    {
     "name": "stderr",
     "output_type": "stream",
     "text": [
      "[Parallel(n_jobs=4)]: Done  42 tasks      | elapsed:  1.7min\n",
      "[Parallel(n_jobs=4)]: Done  60 out of  60 | elapsed:  2.9min finished\n",
      "D:\\a\\lib\\site-packages\\sklearn\\model_selection\\_search.py:761: DeprecationWarning: The grid_scores_ attribute was deprecated in version 0.18 in favor of the more elaborate cv_results_ attribute. The grid_scores_ attribute will not be available from 0.20\n",
      "  DeprecationWarning)\n"
     ]
    },
    {
     "data": {
      "text/plain": [
       "([mean: -949.65876, std: 9.62993, params: {'max_depth': 3, 'num_leaves': 50},\n",
       "  mean: -949.65876, std: 9.62993, params: {'max_depth': 3, 'num_leaves': 80},\n",
       "  mean: -949.65876, std: 9.62993, params: {'max_depth': 3, 'num_leaves': 110},\n",
       "  mean: -949.65876, std: 9.62993, params: {'max_depth': 3, 'num_leaves': 140},\n",
       "  mean: -901.88449, std: 7.18382, params: {'max_depth': 5, 'num_leaves': 50},\n",
       "  mean: -901.88449, std: 7.18382, params: {'max_depth': 5, 'num_leaves': 80},\n",
       "  mean: -901.88449, std: 7.18382, params: {'max_depth': 5, 'num_leaves': 110},\n",
       "  mean: -901.88449, std: 7.18382, params: {'max_depth': 5, 'num_leaves': 140},\n",
       "  mean: -898.20473, std: 10.28349, params: {'max_depth': 7, 'num_leaves': 50},\n",
       "  mean: -901.81530, std: 11.98973, params: {'max_depth': 7, 'num_leaves': 80},\n",
       "  mean: -903.52727, std: 11.57314, params: {'max_depth': 7, 'num_leaves': 110},\n",
       "  mean: -902.32498, std: 10.46328, params: {'max_depth': 7, 'num_leaves': 140}],\n",
       " {'max_depth': 7, 'num_leaves': 50},\n",
       " -898.2047312424479)"
      ]
     },
     "execution_count": 49,
     "metadata": {},
     "output_type": "execute_result"
    }
   ],
   "source": [
    "gsearch1.fit(X_train, label_train)\n",
    "gsearch1.grid_scores_, gsearch1.best_params_, gsearch1.best_score_\n"
   ]
  },
  {
   "cell_type": "code",
   "execution_count": 52,
   "metadata": {},
   "outputs": [
    {
     "name": "stdout",
     "output_type": "stream",
     "text": [
      "Fitting 5 folds for each of 9 candidates, totalling 45 fits\n"
     ]
    },
    {
     "name": "stderr",
     "output_type": "stream",
     "text": [
      "[Parallel(n_jobs=4)]: Done  45 out of  45 | elapsed:  2.9min finished\n",
      "D:\\a\\lib\\site-packages\\sklearn\\model_selection\\_search.py:761: DeprecationWarning: The grid_scores_ attribute was deprecated in version 0.18 in favor of the more elaborate cv_results_ attribute. The grid_scores_ attribute will not be available from 0.20\n",
      "  DeprecationWarning)\n"
     ]
    },
    {
     "data": {
      "text/plain": [
       "([mean: -895.48828, std: 11.10120, params: {'max_depth': 8, 'num_leaves': 38},\n",
       "  mean: -894.22498, std: 10.61423, params: {'max_depth': 8, 'num_leaves': 40},\n",
       "  mean: -894.95512, std: 9.60515, params: {'max_depth': 8, 'num_leaves': 42},\n",
       "  mean: -894.44023, std: 11.41180, params: {'max_depth': 9, 'num_leaves': 38},\n",
       "  mean: -893.55772, std: 10.23147, params: {'max_depth': 9, 'num_leaves': 40},\n",
       "  mean: -895.45363, std: 10.35435, params: {'max_depth': 9, 'num_leaves': 42},\n",
       "  mean: -894.36539, std: 9.24341, params: {'max_depth': 10, 'num_leaves': 38},\n",
       "  mean: -894.48178, std: 10.23047, params: {'max_depth': 10, 'num_leaves': 40},\n",
       "  mean: -895.94803, std: 11.91860, params: {'max_depth': 10, 'num_leaves': 42}],\n",
       " {'max_depth': 9, 'num_leaves': 40},\n",
       " -893.5577171937583)"
      ]
     },
     "execution_count": 52,
     "metadata": {},
     "output_type": "execute_result"
    }
   ],
   "source": [
    "#将max_depth在7附近多取几个值，num_leaves在50附近多取几个值，进行细调\n",
    "from sklearn.model_selection import GridSearchCV\n",
    "\n",
    "### 我们可以创建lgb的sklearn模型，使用上面选择的(学习率，评估器数目)\n",
    "model_lgb = lgb.LGBMRegressor(objective='regression',num_leaves=50,\n",
    "                              learning_rate=0.05, n_estimators=510, max_depth=6,\n",
    "                              metric='rmse', bagging_fraction = 0.8,feature_fraction = 0.8)\n",
    "\n",
    "params_test1={    'max_depth': [8,9,10],    'num_leaves':[38,40,42]\n",
    "}\n",
    "gsearch1 = GridSearchCV(estimator=model_lgb, param_grid=params_test1, scoring='neg_mean_squared_error', cv=5, verbose=1, n_jobs=4)\n",
    "gsearch1.fit(X_train, label_train)\n",
    "gsearch1.grid_scores_, gsearch1.best_params_, gsearch1.best_score_"
   ]
  },
  {
   "cell_type": "markdown",
   "metadata": {},
   "source": [
    "降低过拟合\n",
    "min_data_in_leaf 是一个很重要的参数, 也叫min_child_samples，它的值取决于训练数据的样本个树和num_leaves.\n",
    "将其设置的较大可以避免生成一个过深的树, 但有可能导致欠拟合。\n",
    "min_sum_hessian_in_leaf：也叫min_child_weight，使一个结点分裂的最小海森值之和"
   ]
  },
  {
   "cell_type": "code",
   "execution_count": 54,
   "metadata": {},
   "outputs": [
    {
     "name": "stdout",
     "output_type": "stream",
     "text": [
      "Fitting 5 folds for each of 10 candidates, totalling 50 fits\n"
     ]
    },
    {
     "name": "stderr",
     "output_type": "stream",
     "text": [
      "[Parallel(n_jobs=4)]: Done  42 tasks      | elapsed:  2.4min\n",
      "[Parallel(n_jobs=4)]: Done  50 out of  50 | elapsed:  2.8min finished\n",
      "D:\\a\\lib\\site-packages\\sklearn\\model_selection\\_search.py:761: DeprecationWarning: The grid_scores_ attribute was deprecated in version 0.18 in favor of the more elaborate cv_results_ attribute. The grid_scores_ attribute will not be available from 0.20\n",
      "  DeprecationWarning)\n"
     ]
    },
    {
     "data": {
      "text/plain": [
       "([mean: -894.86651, std: 10.81723, params: {'min_child_samples': 18, 'min_child_weight': 0.001},\n",
       "  mean: -894.86651, std: 10.81723, params: {'min_child_samples': 18, 'min_child_weight': 0.002},\n",
       "  mean: -894.83742, std: 9.38834, params: {'min_child_samples': 19, 'min_child_weight': 0.001},\n",
       "  mean: -894.83742, std: 9.38834, params: {'min_child_samples': 19, 'min_child_weight': 0.002},\n",
       "  mean: -893.55772, std: 10.23147, params: {'min_child_samples': 20, 'min_child_weight': 0.001},\n",
       "  mean: -893.55772, std: 10.23147, params: {'min_child_samples': 20, 'min_child_weight': 0.002},\n",
       "  mean: -894.67725, std: 9.63761, params: {'min_child_samples': 21, 'min_child_weight': 0.001},\n",
       "  mean: -894.67725, std: 9.63761, params: {'min_child_samples': 21, 'min_child_weight': 0.002},\n",
       "  mean: -894.93027, std: 10.50480, params: {'min_child_samples': 22, 'min_child_weight': 0.001},\n",
       "  mean: -894.93027, std: 10.50480, params: {'min_child_samples': 22, 'min_child_weight': 0.002}],\n",
       " {'min_child_samples': 20, 'min_child_weight': 0.001},\n",
       " -893.5577171937583)"
      ]
     },
     "execution_count": 54,
     "metadata": {},
     "output_type": "execute_result"
    }
   ],
   "source": [
    "params_test3={  'min_child_samples': [18, 19, 20, 21, 22],    'min_child_weight':[0.001, 0.002]\n",
    "}\n",
    "model_lgb = lgb.LGBMRegressor(objective='regression',num_leaves=40,\n",
    "                              learning_rate=0.05, n_estimators=510, max_depth=9, \n",
    "                              metric='rmse', bagging_fraction = 0.8, feature_fraction = 0.8)\n",
    "gsearch3 = GridSearchCV(estimator=model_lgb, param_grid=params_test3, scoring='neg_mean_squared_error', cv=5, verbose=1, n_jobs=4)\n",
    "gsearch3.fit(X_train, label_train)\n",
    "gsearch3.grid_scores_, gsearch3.best_params_, gsearch3.best_score_"
   ]
  },
  {
   "cell_type": "markdown",
   "metadata": {},
   "source": [
    "Step4:feature_fraction 和 bagging_fraction\n",
    "这两个参数都是为了降低过拟合的。\n",
    "feature_fraction参数来进行特征的子抽样。这个参数可以用来防止过拟合及提高训练速度。\n",
    "bagging_fraction+bagging_freq参数必须同时设置，bagging_fraction相当于subsample样本采样，\n",
    "可以使bagging更快的运行，同时也可以降拟合。bagging_freq默认0，表示bagging的频率，\n",
    "0意味着没有使用bagging，k意味着每k轮迭代进行一次bagging。"
   ]
  },
  {
   "cell_type": "code",
   "execution_count": 59,
   "metadata": {},
   "outputs": [
    {
     "name": "stdout",
     "output_type": "stream",
     "text": [
      "Fitting 5 folds for each of 3 candidates, totalling 15 fits\n"
     ]
    },
    {
     "name": "stderr",
     "output_type": "stream",
     "text": [
      "[Parallel(n_jobs=4)]: Done  15 out of  15 | elapsed:  1.3min finished\n",
      "D:\\a\\lib\\site-packages\\sklearn\\model_selection\\_search.py:761: DeprecationWarning: The grid_scores_ attribute was deprecated in version 0.18 in favor of the more elaborate cv_results_ attribute. The grid_scores_ attribute will not be available from 0.20\n",
      "  DeprecationWarning)\n"
     ]
    },
    {
     "data": {
      "text/plain": [
       "([mean: -893.84804, std: 11.66413, params: {'bagging_fraction': 0.7, 'feature_fraction': 0.5},\n",
       "  mean: -893.87941, std: 9.91090, params: {'bagging_fraction': 0.7, 'feature_fraction': 0.55},\n",
       "  mean: -890.76768, std: 10.02564, params: {'bagging_fraction': 0.7, 'feature_fraction': 0.6}],\n",
       " {'bagging_fraction': 0.7, 'feature_fraction': 0.6},\n",
       " -890.7676772925485)"
      ]
     },
     "execution_count": 59,
     "metadata": {},
     "output_type": "execute_result"
    }
   ],
   "source": [
    "params_test4={    'feature_fraction': [0.5,0.55,0.6],    'bagging_fraction': [0.7]\n",
    "}\n",
    "model_lgb = lgb.LGBMRegressor(objective='regression',num_leaves=40,\n",
    "                              learning_rate=0.05, n_estimators=510, max_depth=9, \n",
    "                              metric='rmse', bagging_freq = 5,  min_child_samples=20)\n",
    "gsearch4 = GridSearchCV(estimator=model_lgb, param_grid=params_test4, scoring='neg_mean_squared_error', cv=5, verbose=1, n_jobs=4)\n",
    "gsearch4.fit(X_train, label_train)\n",
    "gsearch4.grid_scores_, gsearch4.best_params_, gsearch4.best_score_"
   ]
  },
  {
   "cell_type": "markdown",
   "metadata": {},
   "source": [
    "Step5: 正则化参数\n",
    "正则化参数lambda_l1(reg_alpha), lambda_l2(reg_lambda)，毫无疑问，是降低过拟合的，两者分别对应l1正则化和l2正则化。"
   ]
  },
  {
   "cell_type": "code",
   "execution_count": 61,
   "metadata": {},
   "outputs": [
    {
     "name": "stdout",
     "output_type": "stream",
     "text": [
      "Fitting 5 folds for each of 49 candidates, totalling 245 fits\n"
     ]
    },
    {
     "name": "stderr",
     "output_type": "stream",
     "text": [
      "[Parallel(n_jobs=4)]: Done  42 tasks      | elapsed:  2.5min\n",
      "[Parallel(n_jobs=4)]: Done 192 tasks      | elapsed: 10.0min\n",
      "[Parallel(n_jobs=4)]: Done 245 out of 245 | elapsed: 12.6min finished\n",
      "D:\\a\\lib\\site-packages\\sklearn\\model_selection\\_search.py:761: DeprecationWarning: The grid_scores_ attribute was deprecated in version 0.18 in favor of the more elaborate cv_results_ attribute. The grid_scores_ attribute will not be available from 0.20\n",
      "  DeprecationWarning)\n"
     ]
    },
    {
     "data": {
      "text/plain": [
       "([mean: -894.54140, std: 10.07106, params: {'reg_alpha': 0, 'reg_lambda': 0},\n",
       "  mean: -894.72115, std: 10.29564, params: {'reg_alpha': 0, 'reg_lambda': 0.001},\n",
       "  mean: -894.72363, std: 10.47729, params: {'reg_alpha': 0, 'reg_lambda': 0.01},\n",
       "  mean: -893.94918, std: 10.00841, params: {'reg_alpha': 0, 'reg_lambda': 0.03},\n",
       "  mean: -894.06245, std: 10.72611, params: {'reg_alpha': 0, 'reg_lambda': 0.08},\n",
       "  mean: -893.85851, std: 10.30917, params: {'reg_alpha': 0, 'reg_lambda': 0.3},\n",
       "  mean: -892.52690, std: 10.48866, params: {'reg_alpha': 0, 'reg_lambda': 0.5},\n",
       "  mean: -894.28710, std: 9.96312, params: {'reg_alpha': 0.001, 'reg_lambda': 0},\n",
       "  mean: -893.70893, std: 10.32578, params: {'reg_alpha': 0.001, 'reg_lambda': 0.001},\n",
       "  mean: -894.14890, std: 9.94956, params: {'reg_alpha': 0.001, 'reg_lambda': 0.01},\n",
       "  mean: -893.92977, std: 9.85889, params: {'reg_alpha': 0.001, 'reg_lambda': 0.03},\n",
       "  mean: -893.92280, std: 10.60121, params: {'reg_alpha': 0.001, 'reg_lambda': 0.08},\n",
       "  mean: -893.67511, std: 10.66061, params: {'reg_alpha': 0.001, 'reg_lambda': 0.3},\n",
       "  mean: -893.47878, std: 10.90529, params: {'reg_alpha': 0.001, 'reg_lambda': 0.5},\n",
       "  mean: -894.10140, std: 10.16774, params: {'reg_alpha': 0.01, 'reg_lambda': 0},\n",
       "  mean: -894.73866, std: 10.08365, params: {'reg_alpha': 0.01, 'reg_lambda': 0.001},\n",
       "  mean: -894.93417, std: 10.86332, params: {'reg_alpha': 0.01, 'reg_lambda': 0.01},\n",
       "  mean: -894.74011, std: 10.61122, params: {'reg_alpha': 0.01, 'reg_lambda': 0.03},\n",
       "  mean: -893.16326, std: 10.08800, params: {'reg_alpha': 0.01, 'reg_lambda': 0.08},\n",
       "  mean: -893.53588, std: 11.15231, params: {'reg_alpha': 0.01, 'reg_lambda': 0.3},\n",
       "  mean: -893.93869, std: 10.74836, params: {'reg_alpha': 0.01, 'reg_lambda': 0.5},\n",
       "  mean: -893.97062, std: 10.11355, params: {'reg_alpha': 0.03, 'reg_lambda': 0},\n",
       "  mean: -892.76735, std: 9.80951, params: {'reg_alpha': 0.03, 'reg_lambda': 0.001},\n",
       "  mean: -893.68572, std: 10.74102, params: {'reg_alpha': 0.03, 'reg_lambda': 0.01},\n",
       "  mean: -894.57691, std: 9.26332, params: {'reg_alpha': 0.03, 'reg_lambda': 0.03},\n",
       "  mean: -893.33939, std: 10.76476, params: {'reg_alpha': 0.03, 'reg_lambda': 0.08},\n",
       "  mean: -893.75438, std: 10.18167, params: {'reg_alpha': 0.03, 'reg_lambda': 0.3},\n",
       "  mean: -894.02675, std: 9.56782, params: {'reg_alpha': 0.03, 'reg_lambda': 0.5},\n",
       "  mean: -893.39182, std: 9.97424, params: {'reg_alpha': 0.08, 'reg_lambda': 0},\n",
       "  mean: -894.21162, std: 10.46262, params: {'reg_alpha': 0.08, 'reg_lambda': 0.001},\n",
       "  mean: -894.30139, std: 10.82630, params: {'reg_alpha': 0.08, 'reg_lambda': 0.01},\n",
       "  mean: -893.84259, std: 9.80143, params: {'reg_alpha': 0.08, 'reg_lambda': 0.03},\n",
       "  mean: -893.37723, std: 10.82709, params: {'reg_alpha': 0.08, 'reg_lambda': 0.08},\n",
       "  mean: -894.40397, std: 9.92344, params: {'reg_alpha': 0.08, 'reg_lambda': 0.3},\n",
       "  mean: -893.56746, std: 10.45545, params: {'reg_alpha': 0.08, 'reg_lambda': 0.5},\n",
       "  mean: -895.37746, std: 10.41904, params: {'reg_alpha': 0.3, 'reg_lambda': 0},\n",
       "  mean: -895.22029, std: 10.63338, params: {'reg_alpha': 0.3, 'reg_lambda': 0.001},\n",
       "  mean: -893.75762, std: 9.88596, params: {'reg_alpha': 0.3, 'reg_lambda': 0.01},\n",
       "  mean: -893.73251, std: 10.60554, params: {'reg_alpha': 0.3, 'reg_lambda': 0.03},\n",
       "  mean: -893.97971, std: 10.53173, params: {'reg_alpha': 0.3, 'reg_lambda': 0.08},\n",
       "  mean: -893.52513, std: 10.26148, params: {'reg_alpha': 0.3, 'reg_lambda': 0.3},\n",
       "  mean: -894.46468, std: 10.58951, params: {'reg_alpha': 0.3, 'reg_lambda': 0.5},\n",
       "  mean: -893.54256, std: 10.18728, params: {'reg_alpha': 0.5, 'reg_lambda': 0},\n",
       "  mean: -894.51526, std: 9.92260, params: {'reg_alpha': 0.5, 'reg_lambda': 0.001},\n",
       "  mean: -893.48453, std: 10.18793, params: {'reg_alpha': 0.5, 'reg_lambda': 0.01},\n",
       "  mean: -894.33836, std: 10.15147, params: {'reg_alpha': 0.5, 'reg_lambda': 0.03},\n",
       "  mean: -894.88006, std: 11.86739, params: {'reg_alpha': 0.5, 'reg_lambda': 0.08},\n",
       "  mean: -895.05231, std: 10.42709, params: {'reg_alpha': 0.5, 'reg_lambda': 0.3},\n",
       "  mean: -894.02167, std: 10.43602, params: {'reg_alpha': 0.5, 'reg_lambda': 0.5}],\n",
       " {'reg_alpha': 0, 'reg_lambda': 0.5},\n",
       " -892.5268954295661)"
      ]
     },
     "execution_count": 61,
     "metadata": {},
     "output_type": "execute_result"
    }
   ],
   "source": [
    "params_test6={    'reg_alpha': [0, 0.001, 0.01, 0.03, 0.08, 0.3, 0.5],    'reg_lambda': [0, 0.001, 0.01, 0.03, 0.08, 0.3, 0.5]\n",
    "}\n",
    "model_lgb = lgb.LGBMRegressor(objective='regression',num_leaves=40,\n",
    "                              learning_rate=0.05, n_estimators=510, max_depth=9, \n",
    "                              metric='rmse',  min_child_samples=20, feature_fraction=0.6)\n",
    "gsearch6 = GridSearchCV(estimator=model_lgb, param_grid=params_test6, scoring='neg_mean_squared_error', cv=5, verbose=1, n_jobs=4)\n",
    "gsearch6.fit(X_train, label_train)\n",
    "gsearch6.grid_scores_, gsearch6.best_params_, gsearch6.best_score_"
   ]
  },
  {
   "cell_type": "code",
   "execution_count": 68,
   "metadata": {},
   "outputs": [
    {
     "name": "stdout",
     "output_type": "stream",
     "text": [
      "[100]\tcv_agg's rmse: 31.6923 + 0.363489\n",
      "[200]\tcv_agg's rmse: 30.8779 + 0.29362\n",
      "[300]\tcv_agg's rmse: 30.644 + 0.277928\n",
      "[400]\tcv_agg's rmse: 30.5823 + 0.274659\n",
      "[500]\tcv_agg's rmse: 30.5794 + 0.277262\n",
      "best n_estimators: 468\n",
      "best cv score: 30.572050955114758\n"
     ]
    }
   ],
   "source": [
    "# step6: 降低learning_rate\n",
    "# 之前使用较高的学习速率是因为可以让收敛更快，但是准确度肯定没有细水长流来的好。\n",
    "# 最后，我们使用较低的学习速率，以及使用更多的决策树n_estimators来训练数据，看能不能可以进一步的优化分数。\n",
    "params = {    'boosting_type': 'gbdt', \n",
    "    'objective': 'regression', \n",
    "    'learning_rate': 0.05, \n",
    "    'num_leaves': 40, \n",
    "    'max_depth': 9,    'min_data_in_leaf': 20,    'subsample':0.7, \n",
    "    'colsample_bytree': 0.6, 'bagging_freq':2\n",
    "    }\n",
    "\n",
    "data_train = lgb.Dataset(X_train, label_train, silent=True)\n",
    "cv_results = lgb.cv(\n",
    "    params, data_train, num_boost_round=510, nfold=5, stratified=False, shuffle=True, metrics='rmse',\n",
    "    early_stopping_rounds=50, verbose_eval=100, show_stdv=True)\n",
    "\n",
    "print('best n_estimators:', len(cv_results['rmse-mean']))\n",
    "print('best cv score:', cv_results['rmse-mean'][-1])"
   ]
  },
  {
   "cell_type": "code",
   "execution_count": 69,
   "metadata": {
    "collapsed": true
   },
   "outputs": [],
   "source": [
    "params = {\n",
    "    'learning_rate': 0.05,\n",
    "    'boosting_type': 'gbdt',\n",
    "    'objective': 'regression',#L1损失\n",
    "    'metric': 'mae',#L1损失\n",
    "    'feature_fraction': 0.6,#如果 feature_fraction 小于 1.0, LightGBM 将会在每次迭代中随机选择部分特征. 例如, 如果设置为 0.8, 将会在每棵树训练之前选择 80% 的特征\n",
    "#以用来加速训练\n",
    "#可以用来处理过拟合\n",
    "    'bagging_fraction': 0.7,#类似于 feature_fraction, 但是它将在不进行重采样的情况下随机选择部分数据\n",
    "    'bagging_freq': 2,#0 意味着禁用 bagging. k 意味着每 k 次迭代执行bagging\n",
    "    'num_leaves': 40,#一棵树上的叶子数,默认31\n",
    "    'verbose': -1,#\n",
    "    'max_depth': 9,#限制树模型的最大深度. 防止过拟合\n",
    "    'nthread': 8#LightGBM 的线程数，此设置为真正的 CPU 内核数, 而不是线程的数量\n",
    "}"
   ]
  },
  {
   "cell_type": "code",
   "execution_count": 70,
   "metadata": {},
   "outputs": [
    {
     "name": "stdout",
     "output_type": "stream",
     "text": [
      "fold:  0  training\n",
      "Training until validation scores don't improve for 250 rounds.\n",
      "Early stopping, best iteration is:\n",
      "[579]\tvalid_0's l1: 22.6405\n",
      "fold:  1  training\n",
      "Training until validation scores don't improve for 250 rounds.\n",
      "Early stopping, best iteration is:\n",
      "[515]\tvalid_0's l1: 22.7993\n",
      "fold:  2  training\n",
      "Training until validation scores don't improve for 250 rounds.\n",
      "Early stopping, best iteration is:\n",
      "[588]\tvalid_0's l1: 22.3687\n",
      "fold:  3  training\n",
      "Training until validation scores don't improve for 250 rounds.\n",
      "Early stopping, best iteration is:\n",
      "[516]\tvalid_0's l1: 22.6878\n",
      "fold:  4  training\n",
      "Training until validation scores don't improve for 250 rounds.\n",
      "Early stopping, best iteration is:\n",
      "[479]\tvalid_0's l1: 22.571\n",
      "fold:  0  training\n",
      "Training until validation scores don't improve for 250 rounds.\n",
      "Early stopping, best iteration is:\n",
      "[487]\tvalid_0's l1: 22.6275\n",
      "fold:  1  training\n",
      "Training until validation scores don't improve for 250 rounds.\n",
      "Early stopping, best iteration is:\n",
      "[641]\tvalid_0's l1: 22.4452\n",
      "fold:  2  training\n",
      "Training until validation scores don't improve for 250 rounds.\n",
      "Early stopping, best iteration is:\n",
      "[418]\tvalid_0's l1: 22.6162\n",
      "fold:  3  training\n",
      "Training until validation scores don't improve for 250 rounds.\n",
      "Early stopping, best iteration is:\n",
      "[751]\tvalid_0's l1: 22.6191\n",
      "fold:  4  training\n",
      "Training until validation scores don't improve for 250 rounds.\n",
      "Early stopping, best iteration is:\n",
      "[438]\tvalid_0's l1: 22.807\n",
      "fold:  0  training\n",
      "Training until validation scores don't improve for 250 rounds.\n",
      "Early stopping, best iteration is:\n",
      "[544]\tvalid_0's l1: 22.5466\n",
      "fold:  1  training\n",
      "Training until validation scores don't improve for 250 rounds.\n",
      "Early stopping, best iteration is:\n",
      "[621]\tvalid_0's l1: 22.9374\n",
      "fold:  2  training\n",
      "Training until validation scores don't improve for 250 rounds.\n",
      "Early stopping, best iteration is:\n",
      "[508]\tvalid_0's l1: 22.4734\n",
      "fold:  3  training\n",
      "Training until validation scores don't improve for 250 rounds.\n",
      "Early stopping, best iteration is:\n",
      "[567]\tvalid_0's l1: 22.4284\n",
      "fold:  4  training\n",
      "Training until validation scores don't improve for 250 rounds.\n",
      "Early stopping, best iteration is:\n",
      "[486]\tvalid_0's l1: 22.8354\n",
      "cv score for valid is:  0.04229356790247728\n"
     ]
    }
   ],
   "source": [
    "from sklearn.model_selection import KFold\n",
    "cv_pred_all = 0\n",
    "en_amount = 3\n",
    "\n",
    "oof_lgb1=np.zeros(len(train_data))\n",
    "prediction_lgb1=np.zeros(len(test_data))\n",
    "\n",
    "for seed in range(en_amount):\n",
    "    NFOLDS = 5\n",
    "    train_label = train_data['信用分']\n",
    "    \n",
    "    kfold = KFold(n_splits=NFOLDS, shuffle=True, random_state=seed)\n",
    "    kf = kfold.split(train_data, train_label)\n",
    "\n",
    "    train_data_use = train_data.drop(['用户编码','信用分'], axis=1)\n",
    "    test_data_use = test_data.drop(['用户编码'], axis=1)\n",
    "\n",
    "\n",
    "    cv_pred = np.zeros(test_data.shape[0])\n",
    "    valid_best_l2_all = 0\n",
    "\n",
    "    feature_importance_df = pd.DataFrame()\n",
    "    count = 0\n",
    "    for i, (train_fold, validate) in enumerate(kf):\n",
    "        print('fold: ',i, ' training')\n",
    "        X_train, X_validate, label_train, label_validate = \\\n",
    "        train_data_use.iloc[train_fold, :], train_data_use.iloc[validate, :], \\\n",
    "        train_label[train_fold], train_label[validate]\n",
    "        dtrain = lgb.Dataset(X_train, label_train)\n",
    "        dvalid = lgb.Dataset(X_validate, label_validate, reference=dtrain)\n",
    "        bst = lgb.train(params, dtrain, num_boost_round=10000, valid_sets=dvalid, verbose_eval=-1,early_stopping_rounds=250)\n",
    "        cv_pred += bst.predict(test_data_use, num_iteration=bst.best_iteration)#输出的是概率结果\n",
    "        valid_best_l2_all += bst.best_score['valid_0']['l1']\n",
    "        \n",
    "        oof_lgb1[validate]=bst.predict(X_validate,num_iteration=bst.best_iteration)\n",
    "        prediction_lgb1+=bst.predict(test_data_use,num_iteration=bst.best_iteration)/kfold.n_splits\n",
    "\n",
    "        fold_importance_df = pd.DataFrame()\n",
    "        fold_importance_df[\"feature\"] = list(X_train.columns)\n",
    "        fold_importance_df[\"importance\"] = bst.feature_importance(importance_type='split', iteration=bst.best_iteration)\n",
    "        fold_importance_df[\"fold\"] = count + 1\n",
    "        feature_importance_df = pd.concat([feature_importance_df, fold_importance_df], axis=0)\n",
    "        count += 1\n",
    "\n",
    "    cv_pred /= NFOLDS\n",
    "    valid_best_l2_all /= NFOLDS\n",
    "    \n",
    "    cv_pred_all += cv_pred\n",
    "cv_pred_all /= en_amount\n",
    "prediction_lgb1/=en_amount\n",
    "print('cv score for valid is: ', 1/(1+valid_best_l2_all))\n"
   ]
  },
  {
   "cell_type": "markdown",
   "metadata": {
    "collapsed": true
   },
   "source": [
    "其实，对于基于决策树的模型，调参的方法都是大同小异一般都需要如下步骤：\n",
    "\n",
    "首先选择较高的学习率，大概0.1附近，这样是为了加快收敛的速度。这对于调参是很有必要的。\n",
    "\n",
    "对决策树基本参数调参\n",
    "\n",
    "正则化参数调参\n",
    "\n",
    "最后降低学习率，这里是为了最后提高准确率\n"
   ]
  },
  {
   "cell_type": "code",
   "execution_count": 73,
   "metadata": {},
   "outputs": [
    {
     "name": "stderr",
     "output_type": "stream",
     "text": [
      "D:\\a\\lib\\site-packages\\ipykernel_launcher.py:2: SettingWithCopyWarning: \n",
      "A value is trying to be set on a copy of a slice from a DataFrame.\n",
      "Try using .loc[row_indexer,col_indexer] = value instead\n",
      "\n",
      "See the caveats in the documentation: http://pandas.pydata.org/pandas-docs/stable/indexing.html#indexing-view-versus-copy\n",
      "  \n",
      "D:\\a\\lib\\site-packages\\ipykernel_launcher.py:4: SettingWithCopyWarning: \n",
      "A value is trying to be set on a copy of a slice from a DataFrame.\n",
      "Try using .loc[row_indexer,col_indexer] = value instead\n",
      "\n",
      "See the caveats in the documentation: http://pandas.pydata.org/pandas-docs/stable/indexing.html#indexing-view-versus-copy\n",
      "  after removing the cwd from sys.path.\n"
     ]
    }
   ],
   "source": [
    "test_data_sub1 = test_data[['用户编码']]\n",
    "test_data_sub1['score'] =  prediction_lgb1\n",
    "test_data_sub1.columns = ['id','score']\n",
    "test_data_sub1['score1'] = cv_pred_all"
   ]
  },
  {
   "cell_type": "code",
   "execution_count": 74,
   "metadata": {},
   "outputs": [
    {
     "name": "stderr",
     "output_type": "stream",
     "text": [
      "D:\\a\\lib\\site-packages\\ipykernel_launcher.py:1: SettingWithCopyWarning: \n",
      "A value is trying to be set on a copy of a slice from a DataFrame.\n",
      "Try using .loc[row_indexer,col_indexer] = value instead\n",
      "\n",
      "See the caveats in the documentation: http://pandas.pydata.org/pandas-docs/stable/indexing.html#indexing-view-versus-copy\n",
      "  \"\"\"Entry point for launching an IPython kernel.\n"
     ]
    }
   ],
   "source": [
    "test_data_sub1['score'] = test_data_sub1['score'].apply(lambda x: int(np.round(x)))"
   ]
  },
  {
   "cell_type": "code",
   "execution_count": 75,
   "metadata": {},
   "outputs": [
    {
     "data": {
      "text/html": [
       "<div>\n",
       "<style>\n",
       "    .dataframe thead tr:only-child th {\n",
       "        text-align: right;\n",
       "    }\n",
       "\n",
       "    .dataframe thead th {\n",
       "        text-align: left;\n",
       "    }\n",
       "\n",
       "    .dataframe tbody tr th {\n",
       "        vertical-align: top;\n",
       "    }\n",
       "</style>\n",
       "<table border=\"1\" class=\"dataframe\">\n",
       "  <thead>\n",
       "    <tr style=\"text-align: right;\">\n",
       "      <th></th>\n",
       "      <th>id</th>\n",
       "      <th>score</th>\n",
       "      <th>score1</th>\n",
       "    </tr>\n",
       "  </thead>\n",
       "  <tbody>\n",
       "    <tr>\n",
       "      <th>0</th>\n",
       "      <td>7171737d49b143d1b38883a39e4a5730</td>\n",
       "      <td>622</td>\n",
       "      <td>622.033870</td>\n",
       "    </tr>\n",
       "    <tr>\n",
       "      <th>1</th>\n",
       "      <td>3af0a449d5424488912e8fb2bf4b9faa</td>\n",
       "      <td>523</td>\n",
       "      <td>522.593322</td>\n",
       "    </tr>\n",
       "    <tr>\n",
       "      <th>2</th>\n",
       "      <td>eb2cf02e0d5c4d1294dd73e776dbb441</td>\n",
       "      <td>639</td>\n",
       "      <td>639.413617</td>\n",
       "    </tr>\n",
       "    <tr>\n",
       "      <th>3</th>\n",
       "      <td>9c0f780ecb254670a11aa9e3f10777c5</td>\n",
       "      <td>670</td>\n",
       "      <td>669.880482</td>\n",
       "    </tr>\n",
       "    <tr>\n",
       "      <th>4</th>\n",
       "      <td>d794eed46c1e44f785a575f18b3023a5</td>\n",
       "      <td>650</td>\n",
       "      <td>649.805830</td>\n",
       "    </tr>\n",
       "  </tbody>\n",
       "</table>\n",
       "</div>"
      ],
      "text/plain": [
       "                                 id  score      score1\n",
       "0  7171737d49b143d1b38883a39e4a5730    622  622.033870\n",
       "1  3af0a449d5424488912e8fb2bf4b9faa    523  522.593322\n",
       "2  eb2cf02e0d5c4d1294dd73e776dbb441    639  639.413617\n",
       "3  9c0f780ecb254670a11aa9e3f10777c5    670  669.880482\n",
       "4  d794eed46c1e44f785a575f18b3023a5    650  649.805830"
      ]
     },
     "execution_count": 75,
     "metadata": {},
     "output_type": "execute_result"
    }
   ],
   "source": [
    "test_data_sub1.head()"
   ]
  },
  {
   "cell_type": "code",
   "execution_count": 77,
   "metadata": {
    "collapsed": true
   },
   "outputs": [],
   "source": [
    "test_data_sub1[['id','score']].to_csv('../sub6.csv', index=False)"
   ]
  },
  {
   "cell_type": "code",
   "execution_count": null,
   "metadata": {
    "collapsed": true
   },
   "outputs": [],
   "source": []
  }
 ],
 "metadata": {
  "kernelspec": {
   "display_name": "Python 3",
   "language": "python",
   "name": "python3"
  },
  "language_info": {
   "codemirror_mode": {
    "name": "ipython",
    "version": 3
   },
   "file_extension": ".py",
   "mimetype": "text/x-python",
   "name": "python",
   "nbconvert_exporter": "python",
   "pygments_lexer": "ipython3",
   "version": "3.6.3"
  }
 },
 "nbformat": 4,
 "nbformat_minor": 2
}
