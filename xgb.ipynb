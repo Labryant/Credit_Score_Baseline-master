{
 "cells": [
  {
   "cell_type": "code",
   "execution_count": 1,
   "metadata": {
    "collapsed": true
   },
   "outputs": [],
   "source": [
    "import numpy as np\n",
    "import pandas as pd"
   ]
  },
  {
   "cell_type": "code",
   "execution_count": 2,
   "metadata": {
    "collapsed": true
   },
   "outputs": [],
   "source": [
    "data_path = 'E:/数据竞赛/消费者人群画像—信用智能评分/datalab/'\n",
    "train_data = pd.read_csv(data_path+'train_dataset.csv',engine='python',encoding='utf-8')\n",
    "test_data = pd.read_csv(data_path+'test_dataset.csv',engine='python',encoding='utf-8')\n",
    "sample = pd.read_csv(data_path+'submit_example.csv',engine='python',encoding='utf-8')"
   ]
  },
  {
   "cell_type": "code",
   "execution_count": 3,
   "metadata": {},
   "outputs": [
    {
     "data": {
      "text/plain": [
       "Index(['用户编码', '用户实名制是否通过核实', '用户年龄', '是否大学生客户', '是否黑名单客户', '是否4G不健康客户',\n",
       "       '用户网龄（月）', '用户最近一次缴费距今时长（月）', '缴费用户最近一次缴费金额（元）', '用户近6个月平均消费值（元）',\n",
       "       '用户账单当月总费用（元）', '用户当月账户余额（元）', '缴费用户当前是否欠费缴费', '用户话费敏感度', '当月通话交往圈人数',\n",
       "       '是否经常逛商场的人', '近三个月月均商场出现次数', '当月是否逛过福州仓山万达', '当月是否到过福州山姆会员店', '当月是否看电影',\n",
       "       '当月是否景点游览', '当月是否体育场馆消费', '当月网购类应用使用次数', '当月物流快递类应用使用次数',\n",
       "       '当月金融理财类应用使用总次数', '当月视频播放类应用使用次数', '当月飞机类应用使用次数', '当月火车类应用使用次数',\n",
       "       '当月旅游资讯类应用使用次数', '信用分'],\n",
       "      dtype='object')"
      ]
     },
     "execution_count": 3,
     "metadata": {},
     "output_type": "execute_result"
    }
   ],
   "source": [
    "train_data.columns"
   ]
  },
  {
   "cell_type": "code",
   "execution_count": 4,
   "metadata": {},
   "outputs": [
    {
     "data": {
      "text/plain": [
       "Index(['用户编码', '用户实名制是否通过核实', '用户年龄', '是否大学生客户', '是否黑名单客户', '是否4G不健康客户',\n",
       "       '用户网龄（月）', '用户最近一次缴费距今时长（月）', '缴费用户最近一次缴费金额（元）', '用户近6个月平均消费值（元）',\n",
       "       '用户账单当月总费用（元）', '用户当月账户余额（元）', '缴费用户当前是否欠费缴费', '用户话费敏感度', '当月通话交往圈人数',\n",
       "       '是否经常逛商场的人', '近三个月月均商场出现次数', '当月是否逛过福州仓山万达', '当月是否到过福州山姆会员店', '当月是否看电影',\n",
       "       '当月是否景点游览', '当月是否体育场馆消费', '当月网购类应用使用次数', '当月物流快递类应用使用次数',\n",
       "       '当月金融理财类应用使用总次数', '当月视频播放类应用使用次数', '当月飞机类应用使用次数', '当月火车类应用使用次数',\n",
       "       '当月旅游资讯类应用使用次数'],\n",
       "      dtype='object')"
      ]
     },
     "execution_count": 4,
     "metadata": {},
     "output_type": "execute_result"
    }
   ],
   "source": [
    "test_data = pd.read_csv(data_path+'test_dataset.csv',engine='python',encoding='utf-8')\n",
    "test_data.columns"
   ]
  },
  {
   "cell_type": "code",
   "execution_count": 5,
   "metadata": {},
   "outputs": [
    {
     "data": {
      "text/html": [
       "<div>\n",
       "<style>\n",
       "    .dataframe thead tr:only-child th {\n",
       "        text-align: right;\n",
       "    }\n",
       "\n",
       "    .dataframe thead th {\n",
       "        text-align: left;\n",
       "    }\n",
       "\n",
       "    .dataframe tbody tr th {\n",
       "        vertical-align: top;\n",
       "    }\n",
       "</style>\n",
       "<table border=\"1\" class=\"dataframe\">\n",
       "  <thead>\n",
       "    <tr style=\"text-align: right;\">\n",
       "      <th></th>\n",
       "      <th>用户编码</th>\n",
       "      <th>用户实名制是否通过核实</th>\n",
       "      <th>用户年龄</th>\n",
       "      <th>是否大学生客户</th>\n",
       "      <th>是否黑名单客户</th>\n",
       "      <th>是否4G不健康客户</th>\n",
       "      <th>用户网龄（月）</th>\n",
       "      <th>用户最近一次缴费距今时长（月）</th>\n",
       "      <th>缴费用户最近一次缴费金额（元）</th>\n",
       "      <th>用户近6个月平均消费值（元）</th>\n",
       "      <th>...</th>\n",
       "      <th>当月是否看电影</th>\n",
       "      <th>当月是否景点游览</th>\n",
       "      <th>当月是否体育场馆消费</th>\n",
       "      <th>当月网购类应用使用次数</th>\n",
       "      <th>当月物流快递类应用使用次数</th>\n",
       "      <th>当月金融理财类应用使用总次数</th>\n",
       "      <th>当月视频播放类应用使用次数</th>\n",
       "      <th>当月飞机类应用使用次数</th>\n",
       "      <th>当月火车类应用使用次数</th>\n",
       "      <th>当月旅游资讯类应用使用次数</th>\n",
       "    </tr>\n",
       "  </thead>\n",
       "  <tbody>\n",
       "    <tr>\n",
       "      <th>0</th>\n",
       "      <td>7171737d49b143d1b38883a39e4a5730</td>\n",
       "      <td>1</td>\n",
       "      <td>30</td>\n",
       "      <td>0</td>\n",
       "      <td>0</td>\n",
       "      <td>0</td>\n",
       "      <td>22</td>\n",
       "      <td>1</td>\n",
       "      <td>99.8</td>\n",
       "      <td>69.53</td>\n",
       "      <td>...</td>\n",
       "      <td>0</td>\n",
       "      <td>1</td>\n",
       "      <td>0</td>\n",
       "      <td>281</td>\n",
       "      <td>0</td>\n",
       "      <td>74</td>\n",
       "      <td>807</td>\n",
       "      <td>0</td>\n",
       "      <td>0</td>\n",
       "      <td>2</td>\n",
       "    </tr>\n",
       "    <tr>\n",
       "      <th>1</th>\n",
       "      <td>3af0a449d5424488912e8fb2bf4b9faa</td>\n",
       "      <td>1</td>\n",
       "      <td>70</td>\n",
       "      <td>0</td>\n",
       "      <td>0</td>\n",
       "      <td>0</td>\n",
       "      <td>84</td>\n",
       "      <td>0</td>\n",
       "      <td>0.0</td>\n",
       "      <td>12.89</td>\n",
       "      <td>...</td>\n",
       "      <td>0</td>\n",
       "      <td>0</td>\n",
       "      <td>0</td>\n",
       "      <td>0</td>\n",
       "      <td>0</td>\n",
       "      <td>0</td>\n",
       "      <td>0</td>\n",
       "      <td>0</td>\n",
       "      <td>0</td>\n",
       "      <td>0</td>\n",
       "    </tr>\n",
       "    <tr>\n",
       "      <th>2</th>\n",
       "      <td>eb2cf02e0d5c4d1294dd73e776dbb441</td>\n",
       "      <td>1</td>\n",
       "      <td>35</td>\n",
       "      <td>0</td>\n",
       "      <td>0</td>\n",
       "      <td>0</td>\n",
       "      <td>237</td>\n",
       "      <td>0</td>\n",
       "      <td>0.0</td>\n",
       "      <td>161.71</td>\n",
       "      <td>...</td>\n",
       "      <td>1</td>\n",
       "      <td>1</td>\n",
       "      <td>1</td>\n",
       "      <td>186</td>\n",
       "      <td>0</td>\n",
       "      <td>943</td>\n",
       "      <td>261</td>\n",
       "      <td>0</td>\n",
       "      <td>0</td>\n",
       "      <td>0</td>\n",
       "    </tr>\n",
       "    <tr>\n",
       "      <th>3</th>\n",
       "      <td>9c0f780ecb254670a11aa9e3f10777c5</td>\n",
       "      <td>1</td>\n",
       "      <td>44</td>\n",
       "      <td>0</td>\n",
       "      <td>0</td>\n",
       "      <td>0</td>\n",
       "      <td>161</td>\n",
       "      <td>0</td>\n",
       "      <td>0.0</td>\n",
       "      <td>229.60</td>\n",
       "      <td>...</td>\n",
       "      <td>1</td>\n",
       "      <td>1</td>\n",
       "      <td>1</td>\n",
       "      <td>244</td>\n",
       "      <td>0</td>\n",
       "      <td>72</td>\n",
       "      <td>591</td>\n",
       "      <td>0</td>\n",
       "      <td>0</td>\n",
       "      <td>3</td>\n",
       "    </tr>\n",
       "    <tr>\n",
       "      <th>4</th>\n",
       "      <td>d794eed46c1e44f785a575f18b3023a5</td>\n",
       "      <td>1</td>\n",
       "      <td>44</td>\n",
       "      <td>0</td>\n",
       "      <td>0</td>\n",
       "      <td>0</td>\n",
       "      <td>153</td>\n",
       "      <td>1</td>\n",
       "      <td>99.8</td>\n",
       "      <td>105.42</td>\n",
       "      <td>...</td>\n",
       "      <td>0</td>\n",
       "      <td>1</td>\n",
       "      <td>1</td>\n",
       "      <td>132</td>\n",
       "      <td>0</td>\n",
       "      <td>0</td>\n",
       "      <td>88</td>\n",
       "      <td>0</td>\n",
       "      <td>0</td>\n",
       "      <td>0</td>\n",
       "    </tr>\n",
       "  </tbody>\n",
       "</table>\n",
       "<p>5 rows × 29 columns</p>\n",
       "</div>"
      ],
      "text/plain": [
       "                               用户编码  用户实名制是否通过核实  用户年龄  是否大学生客户  是否黑名单客户  \\\n",
       "0  7171737d49b143d1b38883a39e4a5730            1    30        0        0   \n",
       "1  3af0a449d5424488912e8fb2bf4b9faa            1    70        0        0   \n",
       "2  eb2cf02e0d5c4d1294dd73e776dbb441            1    35        0        0   \n",
       "3  9c0f780ecb254670a11aa9e3f10777c5            1    44        0        0   \n",
       "4  d794eed46c1e44f785a575f18b3023a5            1    44        0        0   \n",
       "\n",
       "   是否4G不健康客户  用户网龄（月）  用户最近一次缴费距今时长（月）  缴费用户最近一次缴费金额（元）  用户近6个月平均消费值（元）  \\\n",
       "0          0       22                1             99.8           69.53   \n",
       "1          0       84                0              0.0           12.89   \n",
       "2          0      237                0              0.0          161.71   \n",
       "3          0      161                0              0.0          229.60   \n",
       "4          0      153                1             99.8          105.42   \n",
       "\n",
       "       ...        当月是否看电影  当月是否景点游览  当月是否体育场馆消费  当月网购类应用使用次数  当月物流快递类应用使用次数  \\\n",
       "0      ...              0         1           0          281              0   \n",
       "1      ...              0         0           0            0              0   \n",
       "2      ...              1         1           1          186              0   \n",
       "3      ...              1         1           1          244              0   \n",
       "4      ...              0         1           1          132              0   \n",
       "\n",
       "   当月金融理财类应用使用总次数  当月视频播放类应用使用次数  当月飞机类应用使用次数  当月火车类应用使用次数  当月旅游资讯类应用使用次数  \n",
       "0              74            807            0            0              2  \n",
       "1               0              0            0            0              0  \n",
       "2             943            261            0            0              0  \n",
       "3              72            591            0            0              3  \n",
       "4               0             88            0            0              0  \n",
       "\n",
       "[5 rows x 29 columns]"
      ]
     },
     "execution_count": 5,
     "metadata": {},
     "output_type": "execute_result"
    }
   ],
   "source": [
    "test_data.head()"
   ]
  },
  {
   "cell_type": "code",
   "execution_count": 6,
   "metadata": {},
   "outputs": [
    {
     "data": {
      "text/html": [
       "<div>\n",
       "<style>\n",
       "    .dataframe thead tr:only-child th {\n",
       "        text-align: right;\n",
       "    }\n",
       "\n",
       "    .dataframe thead th {\n",
       "        text-align: left;\n",
       "    }\n",
       "\n",
       "    .dataframe tbody tr th {\n",
       "        vertical-align: top;\n",
       "    }\n",
       "</style>\n",
       "<table border=\"1\" class=\"dataframe\">\n",
       "  <thead>\n",
       "    <tr style=\"text-align: right;\">\n",
       "      <th></th>\n",
       "      <th>用户编码</th>\n",
       "      <th>用户实名制是否通过核实</th>\n",
       "      <th>用户年龄</th>\n",
       "      <th>是否大学生客户</th>\n",
       "      <th>是否黑名单客户</th>\n",
       "      <th>是否4G不健康客户</th>\n",
       "      <th>用户网龄（月）</th>\n",
       "      <th>用户最近一次缴费距今时长（月）</th>\n",
       "      <th>缴费用户最近一次缴费金额（元）</th>\n",
       "      <th>用户近6个月平均消费值（元）</th>\n",
       "      <th>...</th>\n",
       "      <th>当月是否景点游览</th>\n",
       "      <th>当月是否体育场馆消费</th>\n",
       "      <th>当月网购类应用使用次数</th>\n",
       "      <th>当月物流快递类应用使用次数</th>\n",
       "      <th>当月金融理财类应用使用总次数</th>\n",
       "      <th>当月视频播放类应用使用次数</th>\n",
       "      <th>当月飞机类应用使用次数</th>\n",
       "      <th>当月火车类应用使用次数</th>\n",
       "      <th>当月旅游资讯类应用使用次数</th>\n",
       "      <th>信用分</th>\n",
       "    </tr>\n",
       "  </thead>\n",
       "  <tbody>\n",
       "    <tr>\n",
       "      <th>0</th>\n",
       "      <td>a4651f98c82948b186bdcdc8108381b4</td>\n",
       "      <td>1</td>\n",
       "      <td>44</td>\n",
       "      <td>0</td>\n",
       "      <td>0</td>\n",
       "      <td>0</td>\n",
       "      <td>186</td>\n",
       "      <td>1</td>\n",
       "      <td>99.80</td>\n",
       "      <td>163.86</td>\n",
       "      <td>...</td>\n",
       "      <td>1</td>\n",
       "      <td>1</td>\n",
       "      <td>713</td>\n",
       "      <td>0</td>\n",
       "      <td>2740</td>\n",
       "      <td>7145</td>\n",
       "      <td>0</td>\n",
       "      <td>0</td>\n",
       "      <td>30</td>\n",
       "      <td>664</td>\n",
       "    </tr>\n",
       "    <tr>\n",
       "      <th>1</th>\n",
       "      <td>aeb10247db4e4d67b2550bbc42ff9827</td>\n",
       "      <td>1</td>\n",
       "      <td>18</td>\n",
       "      <td>0</td>\n",
       "      <td>0</td>\n",
       "      <td>1</td>\n",
       "      <td>5</td>\n",
       "      <td>1</td>\n",
       "      <td>29.94</td>\n",
       "      <td>153.28</td>\n",
       "      <td>...</td>\n",
       "      <td>0</td>\n",
       "      <td>0</td>\n",
       "      <td>414</td>\n",
       "      <td>0</td>\n",
       "      <td>2731</td>\n",
       "      <td>44862</td>\n",
       "      <td>0</td>\n",
       "      <td>0</td>\n",
       "      <td>0</td>\n",
       "      <td>530</td>\n",
       "    </tr>\n",
       "    <tr>\n",
       "      <th>2</th>\n",
       "      <td>5af23a1e0e77410abb25e9a7eee510aa</td>\n",
       "      <td>1</td>\n",
       "      <td>47</td>\n",
       "      <td>0</td>\n",
       "      <td>0</td>\n",
       "      <td>0</td>\n",
       "      <td>145</td>\n",
       "      <td>1</td>\n",
       "      <td>49.90</td>\n",
       "      <td>109.64</td>\n",
       "      <td>...</td>\n",
       "      <td>0</td>\n",
       "      <td>0</td>\n",
       "      <td>3391</td>\n",
       "      <td>0</td>\n",
       "      <td>0</td>\n",
       "      <td>4804</td>\n",
       "      <td>0</td>\n",
       "      <td>0</td>\n",
       "      <td>1</td>\n",
       "      <td>643</td>\n",
       "    </tr>\n",
       "    <tr>\n",
       "      <th>3</th>\n",
       "      <td>43c64379d3c24a15b8478851b22049e4</td>\n",
       "      <td>1</td>\n",
       "      <td>55</td>\n",
       "      <td>0</td>\n",
       "      <td>0</td>\n",
       "      <td>0</td>\n",
       "      <td>234</td>\n",
       "      <td>1</td>\n",
       "      <td>99.80</td>\n",
       "      <td>92.97</td>\n",
       "      <td>...</td>\n",
       "      <td>1</td>\n",
       "      <td>1</td>\n",
       "      <td>500</td>\n",
       "      <td>0</td>\n",
       "      <td>1931</td>\n",
       "      <td>3141</td>\n",
       "      <td>0</td>\n",
       "      <td>0</td>\n",
       "      <td>5</td>\n",
       "      <td>649</td>\n",
       "    </tr>\n",
       "    <tr>\n",
       "      <th>4</th>\n",
       "      <td>f1687f3b8a6f4910bd0b13eb634056e2</td>\n",
       "      <td>1</td>\n",
       "      <td>40</td>\n",
       "      <td>0</td>\n",
       "      <td>0</td>\n",
       "      <td>0</td>\n",
       "      <td>76</td>\n",
       "      <td>1</td>\n",
       "      <td>49.90</td>\n",
       "      <td>95.47</td>\n",
       "      <td>...</td>\n",
       "      <td>1</td>\n",
       "      <td>0</td>\n",
       "      <td>522</td>\n",
       "      <td>0</td>\n",
       "      <td>64</td>\n",
       "      <td>59</td>\n",
       "      <td>0</td>\n",
       "      <td>0</td>\n",
       "      <td>0</td>\n",
       "      <td>648</td>\n",
       "    </tr>\n",
       "  </tbody>\n",
       "</table>\n",
       "<p>5 rows × 30 columns</p>\n",
       "</div>"
      ],
      "text/plain": [
       "                               用户编码  用户实名制是否通过核实  用户年龄  是否大学生客户  是否黑名单客户  \\\n",
       "0  a4651f98c82948b186bdcdc8108381b4            1    44        0        0   \n",
       "1  aeb10247db4e4d67b2550bbc42ff9827            1    18        0        0   \n",
       "2  5af23a1e0e77410abb25e9a7eee510aa            1    47        0        0   \n",
       "3  43c64379d3c24a15b8478851b22049e4            1    55        0        0   \n",
       "4  f1687f3b8a6f4910bd0b13eb634056e2            1    40        0        0   \n",
       "\n",
       "   是否4G不健康客户  用户网龄（月）  用户最近一次缴费距今时长（月）  缴费用户最近一次缴费金额（元）  用户近6个月平均消费值（元） ...   \\\n",
       "0          0      186                1            99.80          163.86 ...    \n",
       "1          1        5                1            29.94          153.28 ...    \n",
       "2          0      145                1            49.90          109.64 ...    \n",
       "3          0      234                1            99.80           92.97 ...    \n",
       "4          0       76                1            49.90           95.47 ...    \n",
       "\n",
       "   当月是否景点游览  当月是否体育场馆消费  当月网购类应用使用次数  当月物流快递类应用使用次数  当月金融理财类应用使用总次数  \\\n",
       "0         1           1          713              0            2740   \n",
       "1         0           0          414              0            2731   \n",
       "2         0           0         3391              0               0   \n",
       "3         1           1          500              0            1931   \n",
       "4         1           0          522              0              64   \n",
       "\n",
       "   当月视频播放类应用使用次数  当月飞机类应用使用次数  当月火车类应用使用次数  当月旅游资讯类应用使用次数  信用分  \n",
       "0           7145            0            0             30  664  \n",
       "1          44862            0            0              0  530  \n",
       "2           4804            0            0              1  643  \n",
       "3           3141            0            0              5  649  \n",
       "4             59            0            0              0  648  \n",
       "\n",
       "[5 rows x 30 columns]"
      ]
     },
     "execution_count": 6,
     "metadata": {},
     "output_type": "execute_result"
    }
   ],
   "source": [
    "train_data.head()"
   ]
  },
  {
   "cell_type": "code",
   "execution_count": 7,
   "metadata": {},
   "outputs": [
    {
     "name": "stdout",
     "output_type": "stream",
     "text": [
      "<class 'pandas.core.frame.DataFrame'>\n",
      "RangeIndex: 50000 entries, 0 to 49999\n",
      "Data columns (total 30 columns):\n",
      "用户编码               50000 non-null object\n",
      "用户实名制是否通过核实        50000 non-null int64\n",
      "用户年龄               50000 non-null int64\n",
      "是否大学生客户            50000 non-null int64\n",
      "是否黑名单客户            50000 non-null int64\n",
      "是否4G不健康客户          50000 non-null int64\n",
      "用户网龄（月）            50000 non-null int64\n",
      "用户最近一次缴费距今时长（月）    50000 non-null int64\n",
      "缴费用户最近一次缴费金额（元）    50000 non-null float64\n",
      "用户近6个月平均消费值（元）     50000 non-null float64\n",
      "用户账单当月总费用（元）       50000 non-null float64\n",
      "用户当月账户余额（元）        50000 non-null int64\n",
      "缴费用户当前是否欠费缴费       50000 non-null int64\n",
      "用户话费敏感度            50000 non-null int64\n",
      "当月通话交往圈人数          50000 non-null int64\n",
      "是否经常逛商场的人          50000 non-null int64\n",
      "近三个月月均商场出现次数       50000 non-null int64\n",
      "当月是否逛过福州仓山万达       50000 non-null int64\n",
      "当月是否到过福州山姆会员店      50000 non-null int64\n",
      "当月是否看电影            50000 non-null int64\n",
      "当月是否景点游览           50000 non-null int64\n",
      "当月是否体育场馆消费         50000 non-null int64\n",
      "当月网购类应用使用次数        50000 non-null int64\n",
      "当月物流快递类应用使用次数      50000 non-null int64\n",
      "当月金融理财类应用使用总次数     50000 non-null int64\n",
      "当月视频播放类应用使用次数      50000 non-null int64\n",
      "当月飞机类应用使用次数        50000 non-null int64\n",
      "当月火车类应用使用次数        50000 non-null int64\n",
      "当月旅游资讯类应用使用次数      50000 non-null int64\n",
      "信用分                50000 non-null int64\n",
      "dtypes: float64(3), int64(26), object(1)\n",
      "memory usage: 11.4+ MB\n"
     ]
    }
   ],
   "source": [
    "train_data.info()"
   ]
  },
  {
   "cell_type": "code",
   "execution_count": 8,
   "metadata": {
    "collapsed": true
   },
   "outputs": [],
   "source": [
    "x_cols = [col for col in train_data.columns if col not in ['信用分'] and train_data[col].dtype!=object]\n",
    "labels = []\n",
    "values = []\n",
    "\n",
    "for col in x_cols:\n",
    "    labels.append(col)\n",
    "    values.append(np.corrcoef(train_data[col].values,train_data['信用分'].values)[0,1])"
   ]
  },
  {
   "cell_type": "code",
   "execution_count": 9,
   "metadata": {},
   "outputs": [
    {
     "data": {
      "text/plain": [
       "array([[1.        , 0.03778044],\n",
       "       [0.03778044, 1.        ]])"
      ]
     },
     "execution_count": 9,
     "metadata": {},
     "output_type": "execute_result"
    }
   ],
   "source": [
    "np.corrcoef(train_data['用户年龄'].values,train_data['信用分'].values)"
   ]
  },
  {
   "cell_type": "code",
   "execution_count": 10,
   "metadata": {
    "collapsed": true
   },
   "outputs": [],
   "source": [
    "corr_df = pd.DataFrame({'col_values':labels,'corr_values':values})\n",
    "corr_df = corr_df.sort_values(by = 'corr_values',ascending=False)\n",
    "#corr_df"
   ]
  },
  {
   "cell_type": "code",
   "execution_count": 11,
   "metadata": {},
   "outputs": [
    {
     "data": {
      "text/html": [
       "<div>\n",
       "<style>\n",
       "    .dataframe thead tr:only-child th {\n",
       "        text-align: right;\n",
       "    }\n",
       "\n",
       "    .dataframe thead th {\n",
       "        text-align: left;\n",
       "    }\n",
       "\n",
       "    .dataframe tbody tr th {\n",
       "        vertical-align: top;\n",
       "    }\n",
       "</style>\n",
       "<table border=\"1\" class=\"dataframe\">\n",
       "  <thead>\n",
       "    <tr style=\"text-align: right;\">\n",
       "      <th></th>\n",
       "      <th>col_values</th>\n",
       "      <th>corr_values</th>\n",
       "    </tr>\n",
       "  </thead>\n",
       "  <tbody>\n",
       "    <tr>\n",
       "      <th>5</th>\n",
       "      <td>用户网龄（月）</td>\n",
       "      <td>0.546893</td>\n",
       "    </tr>\n",
       "    <tr>\n",
       "      <th>8</th>\n",
       "      <td>用户近6个月平均消费值（元）</td>\n",
       "      <td>0.493749</td>\n",
       "    </tr>\n",
       "    <tr>\n",
       "      <th>13</th>\n",
       "      <td>当月通话交往圈人数</td>\n",
       "      <td>0.477302</td>\n",
       "    </tr>\n",
       "    <tr>\n",
       "      <th>9</th>\n",
       "      <td>用户账单当月总费用（元）</td>\n",
       "      <td>0.443064</td>\n",
       "    </tr>\n",
       "    <tr>\n",
       "      <th>7</th>\n",
       "      <td>缴费用户最近一次缴费金额（元）</td>\n",
       "      <td>0.333539</td>\n",
       "    </tr>\n",
       "    <tr>\n",
       "      <th>19</th>\n",
       "      <td>当月是否景点游览</td>\n",
       "      <td>0.270870</td>\n",
       "    </tr>\n",
       "    <tr>\n",
       "      <th>20</th>\n",
       "      <td>当月是否体育场馆消费</td>\n",
       "      <td>0.233067</td>\n",
       "    </tr>\n",
       "    <tr>\n",
       "      <th>6</th>\n",
       "      <td>用户最近一次缴费距今时长（月）</td>\n",
       "      <td>0.215252</td>\n",
       "    </tr>\n",
       "    <tr>\n",
       "      <th>15</th>\n",
       "      <td>近三个月月均商场出现次数</td>\n",
       "      <td>0.197827</td>\n",
       "    </tr>\n",
       "    <tr>\n",
       "      <th>18</th>\n",
       "      <td>当月是否看电影</td>\n",
       "      <td>0.165377</td>\n",
       "    </tr>\n",
       "    <tr>\n",
       "      <th>23</th>\n",
       "      <td>当月金融理财类应用使用总次数</td>\n",
       "      <td>0.113808</td>\n",
       "    </tr>\n",
       "    <tr>\n",
       "      <th>14</th>\n",
       "      <td>是否经常逛商场的人</td>\n",
       "      <td>0.113114</td>\n",
       "    </tr>\n",
       "    <tr>\n",
       "      <th>3</th>\n",
       "      <td>是否黑名单客户</td>\n",
       "      <td>0.110549</td>\n",
       "    </tr>\n",
       "    <tr>\n",
       "      <th>11</th>\n",
       "      <td>缴费用户当前是否欠费缴费</td>\n",
       "      <td>0.089803</td>\n",
       "    </tr>\n",
       "    <tr>\n",
       "      <th>10</th>\n",
       "      <td>用户当月账户余额（元）</td>\n",
       "      <td>0.081096</td>\n",
       "    </tr>\n",
       "    <tr>\n",
       "      <th>24</th>\n",
       "      <td>当月视频播放类应用使用次数</td>\n",
       "      <td>0.064864</td>\n",
       "    </tr>\n",
       "    <tr>\n",
       "      <th>17</th>\n",
       "      <td>当月是否到过福州山姆会员店</td>\n",
       "      <td>0.054110</td>\n",
       "    </tr>\n",
       "    <tr>\n",
       "      <th>16</th>\n",
       "      <td>当月是否逛过福州仓山万达</td>\n",
       "      <td>0.051375</td>\n",
       "    </tr>\n",
       "    <tr>\n",
       "      <th>1</th>\n",
       "      <td>用户年龄</td>\n",
       "      <td>0.037780</td>\n",
       "    </tr>\n",
       "    <tr>\n",
       "      <th>21</th>\n",
       "      <td>当月网购类应用使用次数</td>\n",
       "      <td>0.033495</td>\n",
       "    </tr>\n",
       "    <tr>\n",
       "      <th>26</th>\n",
       "      <td>当月火车类应用使用次数</td>\n",
       "      <td>0.032554</td>\n",
       "    </tr>\n",
       "    <tr>\n",
       "      <th>0</th>\n",
       "      <td>用户实名制是否通过核实</td>\n",
       "      <td>0.028927</td>\n",
       "    </tr>\n",
       "    <tr>\n",
       "      <th>2</th>\n",
       "      <td>是否大学生客户</td>\n",
       "      <td>0.025312</td>\n",
       "    </tr>\n",
       "    <tr>\n",
       "      <th>27</th>\n",
       "      <td>当月旅游资讯类应用使用次数</td>\n",
       "      <td>0.020780</td>\n",
       "    </tr>\n",
       "    <tr>\n",
       "      <th>25</th>\n",
       "      <td>当月飞机类应用使用次数</td>\n",
       "      <td>0.014362</td>\n",
       "    </tr>\n",
       "    <tr>\n",
       "      <th>22</th>\n",
       "      <td>当月物流快递类应用使用次数</td>\n",
       "      <td>0.001054</td>\n",
       "    </tr>\n",
       "    <tr>\n",
       "      <th>4</th>\n",
       "      <td>是否4G不健康客户</td>\n",
       "      <td>-0.147162</td>\n",
       "    </tr>\n",
       "    <tr>\n",
       "      <th>12</th>\n",
       "      <td>用户话费敏感度</td>\n",
       "      <td>-0.239400</td>\n",
       "    </tr>\n",
       "  </tbody>\n",
       "</table>\n",
       "</div>"
      ],
      "text/plain": [
       "         col_values  corr_values\n",
       "5           用户网龄（月）     0.546893\n",
       "8    用户近6个月平均消费值（元）     0.493749\n",
       "13        当月通话交往圈人数     0.477302\n",
       "9      用户账单当月总费用（元）     0.443064\n",
       "7   缴费用户最近一次缴费金额（元）     0.333539\n",
       "19         当月是否景点游览     0.270870\n",
       "20       当月是否体育场馆消费     0.233067\n",
       "6   用户最近一次缴费距今时长（月）     0.215252\n",
       "15     近三个月月均商场出现次数     0.197827\n",
       "18          当月是否看电影     0.165377\n",
       "23   当月金融理财类应用使用总次数     0.113808\n",
       "14        是否经常逛商场的人     0.113114\n",
       "3           是否黑名单客户     0.110549\n",
       "11     缴费用户当前是否欠费缴费     0.089803\n",
       "10      用户当月账户余额（元）     0.081096\n",
       "24    当月视频播放类应用使用次数     0.064864\n",
       "17    当月是否到过福州山姆会员店     0.054110\n",
       "16     当月是否逛过福州仓山万达     0.051375\n",
       "1              用户年龄     0.037780\n",
       "21      当月网购类应用使用次数     0.033495\n",
       "26      当月火车类应用使用次数     0.032554\n",
       "0       用户实名制是否通过核实     0.028927\n",
       "2           是否大学生客户     0.025312\n",
       "27    当月旅游资讯类应用使用次数     0.020780\n",
       "25      当月飞机类应用使用次数     0.014362\n",
       "22    当月物流快递类应用使用次数     0.001054\n",
       "4         是否4G不健康客户    -0.147162\n",
       "12          用户话费敏感度    -0.239400"
      ]
     },
     "execution_count": 11,
     "metadata": {},
     "output_type": "execute_result"
    }
   ],
   "source": [
    "corr_df"
   ]
  },
  {
   "cell_type": "code",
   "execution_count": 12,
   "metadata": {
    "collapsed": true
   },
   "outputs": [],
   "source": [
    "#画信用分的密度曲线"
   ]
  },
  {
   "cell_type": "code",
   "execution_count": 13,
   "metadata": {
    "collapsed": true
   },
   "outputs": [],
   "source": [
    "#def produce_offline_feature(row):\n",
    "#    if (row%10==0)&(row!=0):\n",
    "#       return 1\n",
    "#    else:\n",
    "#       return 0\n",
    "#train_data['不同充值途径']=train_data['缴费用户最近一次缴费金额（元）'].apply(produce_offline_feature)"
   ]
  },
  {
   "cell_type": "code",
   "execution_count": 14,
   "metadata": {},
   "outputs": [
    {
     "name": "stderr",
     "output_type": "stream",
     "text": [
      "D:\\a\\lib\\site-packages\\ipykernel_launcher.py:3: SettingWithCopyWarning: \n",
      "A value is trying to be set on a copy of a slice from a DataFrame\n",
      "\n",
      "See the caveats in the documentation: http://pandas.pydata.org/pandas-docs/stable/indexing.html#indexing-view-versus-copy\n",
      "  This is separate from the ipykernel package so we can avoid doing imports until\n"
     ]
    }
   ],
   "source": [
    "def produce_offline_feature(train_data):\n",
    "    train_data['不同充值途径']=0\n",
    "    train_data['不同充值途径'][(train_data['缴费用户最近一次缴费金额（元）']%10==0)&(train_data['缴费用户最近一次缴费金额（元）']!=0)]=1\n",
    "    return train_data\n",
    "\n",
    "train_data=produce_offline_feature(train_data)\n",
    "test_data=produce_offline_feature(test_data)   "
   ]
  },
  {
   "cell_type": "code",
   "execution_count": 15,
   "metadata": {
    "collapsed": true
   },
   "outputs": [],
   "source": [
    "##看importance，当月话费 和最近半年平均话费都很高，算一下当月/半年 -->稳定性\n",
    "def produce_fee_rate(train_data):\n",
    "    train_data['当前费用稳定性']=train_data['用户账单当月总费用（元）']/(train_data['用户近6个月平均消费值（元）']+1)\n",
    "    \n",
    "    ##当月话费/当月账户余额\n",
    "    train_data['用户余额比例']=train_data['用户账单当月总费用（元）']/(train_data['用户当月账户余额（元）']+1)\n",
    "    return train_data\n",
    "\n",
    "train_data=produce_fee_rate(train_data)\n",
    "test_data=produce_fee_rate(test_data)"
   ]
  },
  {
   "cell_type": "code",
   "execution_count": 16,
   "metadata": {
    "collapsed": true
   },
   "outputs": [],
   "source": [
    "def get_features(data):\n",
    "    data.loc[data['用户年龄']==0,'用户年龄']=data['用户年龄'].mode()\n",
    "    data['缴费金额是否能覆盖当月账单']=data['缴费用户最近一次缴费金额（元）']-data['用户账单当月总费用（元）']\n",
    "    data['最近一次缴费是否超过平均消费额']=data['缴费用户最近一次缴费金额（元）']-data['用户近6个月平均消费值（元）']\n",
    "    data['当月账单是否超过平均消费额']=data['用户账单当月总费用（元）']-data['用户近6个月平均消费值（元）']\n",
    "    \n",
    "    def map_age(x):\n",
    "        if x<=18:\n",
    "            return 1\n",
    "        elif x<=30:\n",
    "            return 2\n",
    "        elif x<=35:\n",
    "            return 3\n",
    "        elif x<=45:\n",
    "            return 4\n",
    "        else:\n",
    "            return 5\n",
    "        \n",
    "    data['是否大学生_黑名单']=data['是否大学生客户']+data['是否黑名单客户']\n",
    "    data['是否去过高档商场']=data['当月是否到过福州山姆会员店']+data['当月是否逛过福州仓山万达']\n",
    "    data['是否去过高档商场']=data['是否去过高档商场'].map(lambda x:1 if x>=1 else 0)\n",
    "    data['是否_商场_电影']=data['是否去过高档商场']*data['当月是否看电影']\n",
    "    data['是否_商场_体育馆']=data['是否去过高档商场']*data['当月是否体育场馆消费']\n",
    "    data['是否_商场_旅游']=data['是否去过高档商场']*data['当月是否景点游览']\n",
    "    data['是否_电影_体育馆']=data['当月是否看电影']*data['当月是否体育场馆消费']\n",
    "    data['是否_电影_旅游']=data['当月是否看电影']*data['当月是否景点游览']\n",
    "    data['是否_旅游_体育馆']=data['当月是否景点游览']*data['当月是否体育场馆消费']\n",
    "    \n",
    "    data['是否_商场_旅游_体育馆']=data['是否去过高档商场']*data['当月是否景点游览']*data['当月是否体育场馆消费']\n",
    "    data['是否_商场_电影_体育馆']=data['是否去过高档商场']*data['当月是否看电影']*data['当月是否体育场馆消费']\n",
    "    data['是否_商场_电影_旅游']=data['是否去过高档商场']*data['当月是否看电影']*data['当月是否景点游览']\n",
    "    data['是否_体育馆_电影_旅游']=data['当月是否体育场馆消费']*data['当月是否看电影']*data['当月是否景点游览']\n",
    "    \n",
    "    data['是否_商场_体育馆_电影_旅游']=data['是否去过高档商场']*data['当月是否体育场馆消费']*data['当月是否看电影']*data['当月是否景点游览']\n",
    "    \n",
    "    discretize_features=['交通类应用使用次数','当月物流快递类应用使用次数','当月飞机类应用使用次数','当月火车类应用使用次数','当月旅游资讯类应用使用次数']\n",
    "    data['交通类应用使用次数']=data['当月飞机类应用使用次数']+data['当月火车类应用使用次数']\n",
    "    \n",
    "    data['6个月平均占比总费用']=data['用户近6个月平均消费值（元）']/data['用户账单当月总费用（元）']+1\n",
    "    \n",
    "    def map_discretize(x):\n",
    "        if x==0:\n",
    "            return 0\n",
    "        elif x<=5:\n",
    "            return 1\n",
    "        elif x<=15:\n",
    "            return 2\n",
    "        elif x<=50:\n",
    "            return 3\n",
    "        elif x<=100:\n",
    "            return 4\n",
    "        else:\n",
    "            return 5\n",
    "        \n",
    "        for col in discretize_features:\n",
    "            #data[col]=data[col].apply(map_discretize)\n",
    "            data[col]=data[col].map(lambda x:map_discretize(x))\n",
    "            \n",
    "        return data\n",
    "    \n",
    "train_data1=get_features(train_data)\n",
    "test_data1=get_features(test_data)"
   ]
  },
  {
   "cell_type": "code",
   "execution_count": 17,
   "metadata": {},
   "outputs": [
    {
     "data": {
      "text/plain": [
       "(50000, 51)"
      ]
     },
     "execution_count": 17,
     "metadata": {},
     "output_type": "execute_result"
    }
   ],
   "source": [
    "train_data.shape"
   ]
  },
  {
   "cell_type": "code",
   "execution_count": 18,
   "metadata": {},
   "outputs": [
    {
     "name": "stderr",
     "output_type": "stream",
     "text": [
      "D:\\a\\lib\\site-packages\\numpy\\lib\\function_base.py:4291: RuntimeWarning: Invalid value encountered in percentile\n",
      "  interpolation=interpolation)\n"
     ]
    }
   ],
   "source": [
    "def base_process(data):\n",
    "    transform_value_feature=['用户年龄','用户网龄（月）','当月通话交往圈人数','近三个月月均商场出现次数','当月网购类应用使用次数','当月物流快递类应用使用次数'\n",
    "                            ,'当月金融理财类应用使用总次数','当月视频播放类应用使用次数','当月飞机类应用使用次数','当月火车类应用使用次数','当月旅游资讯类应用使用次数']\n",
    "    user_fea=['缴费用户最近一次缴费金额（元）','用户近6个月平均消费值（元）','用户账单当月总费用（元）','用户当月账户余额（元）']\n",
    "    log_features=['当月网购类应用使用次数','当月金融理财类应用使用总次数','当月物流快递类应用使用次数','当月视频播放类应用使用次数']\n",
    "    \n",
    "    #处理离散点\n",
    "    for col in transform_value_feature+user_fea+log_features:\n",
    "        ulimit = np.percentile(train_data[col].values,99.9)\n",
    "        llimit = np.percentile(train_data[col].values,0.1)\n",
    "        train_data.loc[train_data[col]<ulimit,col]=ulimit\n",
    "        train_data.loc[train_data[col]>llimit,col]=llimit\n",
    "        \n",
    "    for col in user_fea+log_features:\n",
    "        data[col]=data[col].map(lambda x:np.log1p(x))\n",
    "#在数据预处理时首先可以对偏度比较大的数据用log1p函数进行转化，使其更加服从高斯分布，此步处理可能会使我们后续的分类结果得到一个更好的结果；\n",
    "#平滑处理很容易被忽略掉，导致模型的结果总是达不到一定的标准，同样使用逼格更高的log1p能避免复值得问题——复值指一个自变量对应多个因变量；    \n",
    "    return data\n",
    "\n",
    "train_data=base_process(train_data)\n",
    "test_data=base_process(test_data)"
   ]
  },
  {
   "cell_type": "code",
   "execution_count": 19,
   "metadata": {},
   "outputs": [
    {
     "data": {
      "text/plain": [
       "array(['aeb10247db4e4d67b2550bbc42ff9827', 1, 18.0, 0, 0, 1, 5.0, 1, 0.0,\n",
       "       2.1972245773362196, 1.1313924340249193, 2.3978952727983707, 0, 3,\n",
       "       1.0, 1, 0.0, 0, 0, 0, 0, 0, 0.0, 0.0, 0.0, 0.0, 0.0, 0.0, 0.0, 530,\n",
       "       0, 0.9404977962146746, 1.3072072072072072, -115.16, -123.34,\n",
       "       -8.180000000000007, 0, 0, 0, 0, 0, 0, 0, 0, 0, 0, 0, 0, 0, 0,\n",
       "       2.0563749138525154], dtype=object)"
      ]
     },
     "execution_count": 19,
     "metadata": {},
     "output_type": "execute_result"
    }
   ],
   "source": [
    "train_data.iloc[1].values"
   ]
  },
  {
   "cell_type": "code",
   "execution_count": 20,
   "metadata": {
    "collapsed": true
   },
   "outputs": [],
   "source": [
    "#特征重要度显示函数"
   ]
  },
  {
   "cell_type": "code",
   "execution_count": 21,
   "metadata": {},
   "outputs": [
    {
     "name": "stdout",
     "output_type": "stream",
     "text": [
      "fold:  0  training\n",
      "fold:  1  training\n",
      "fold:  2  training\n",
      "fold:  3  training\n",
      "fold:  4  training\n"
     ]
    }
   ],
   "source": [
    "from sklearn.model_selection import KFold\n",
    "NFOLDS=5\n",
    "train_label = train_data['信用分']\n",
    "kfold=KFold(n_splits=NFOLDS, shuffle=True, random_state=2019)\n",
    "kf=kfold.split(train_data,train_label)\n",
    "\n",
    "train_data_use = train_data.drop(['用户编码','信用分'], axis=1)\n",
    "test_data_use = test_data.drop(['用户编码'], axis=1)\n",
    "\n",
    "for i, (train_fold, validate) in enumerate(kf):\n",
    "    print('fold: ',i, ' training')\n",
    "    X_train=train_data_use.iloc[train_fold, :]\n",
    "    X_validate=train_data_use.iloc[validate, :]\n",
    "    label_train=train_label[train_fold]\n",
    "    label_validate=train_label[validate]\n"
   ]
  },
  {
   "cell_type": "markdown",
   "metadata": {},
   "source": [
    "1、最佳迭代次数：n_estimators"
   ]
  },
  {
   "cell_type": "code",
   "execution_count": 24,
   "metadata": {},
   "outputs": [
    {
     "name": "stdout",
     "output_type": "stream",
     "text": [
      "Fitting 5 folds for each of 3 candidates, totalling 15 fits\n"
     ]
    },
    {
     "name": "stderr",
     "output_type": "stream",
     "text": [
      "[Parallel(n_jobs=4)]: Done  15 out of  15 | elapsed:  3.0min finished\n"
     ]
    },
    {
     "name": "stdout",
     "output_type": "stream",
     "text": [
      "每轮迭代运行结果:[mean: 0.50328, std: 0.00978, params: {'n_estimators': 390}, mean: 0.50328, std: 0.00977, params: {'n_estimators': 400}, mean: 0.50313, std: 0.00973, params: {'n_estimators': 410}]\n",
      "参数的最佳取值：{'n_estimators': 400}\n",
      "最佳模型得分:0.5032802634628369\n"
     ]
    },
    {
     "name": "stderr",
     "output_type": "stream",
     "text": [
      "D:\\a\\lib\\site-packages\\sklearn\\model_selection\\_search.py:761: DeprecationWarning: The grid_scores_ attribute was deprecated in version 0.18 in favor of the more elaborate cv_results_ attribute. The grid_scores_ attribute will not be available from 0.20\n",
      "  DeprecationWarning)\n"
     ]
    }
   ],
   "source": [
    "import xgboost as xgb\n",
    "from sklearn.model_selection import GridSearchCV\n",
    "cv_params = {'n_estimators': [390,400,410]}\n",
    "other_params = {'learning_rate': 0.1, 'n_estimators': 500, 'max_depth': 5, 'min_child_weight': 1, 'seed': 0,\n",
    "                'subsample': 0.8, 'colsample_bytree': 0.8, 'gamma': 0, 'reg_alpha': 0, 'reg_lambda': 1}\n",
    "\n",
    "model = xgb.XGBRegressor(**other_params)\n",
    "optimized_GBM = GridSearchCV(estimator=model, param_grid=cv_params, scoring='r2', cv=5, verbose=1, n_jobs=4)\n",
    "optimized_GBM.fit(X_train, label_train)\n",
    "evalute_result = optimized_GBM.grid_scores_\n",
    "print('每轮迭代运行结果:{0}'.format(evalute_result))\n",
    "print('参数的最佳取值：{0}'.format(optimized_GBM.best_params_))\n",
    "print('最佳模型得分:{0}'.format(optimized_GBM.best_score_))"
   ]
  },
  {
   "cell_type": "code",
   "execution_count": null,
   "metadata": {
    "collapsed": true
   },
   "outputs": [],
   "source": [
    "2、接下来要调试的参数是min_child_weight以及max_depth：\n",
    "min_child_weight:定义观测样本生成的孩子节点的权重最小和\n",
    "这个概念与GBM中的min_child_leaf概念类似，但是又不完全一样，这个概念指的是某观测叶子节点中所有样本权重之和的最小值，而GBM指的是叶子节点的最少样本量\n",
    "用于防止过拟合问题：较大的值能防止过拟合，过大的值会导致欠拟合问题\n"
   ]
  },
  {
   "cell_type": "code",
   "execution_count": 25,
   "metadata": {},
   "outputs": [
    {
     "name": "stdout",
     "output_type": "stream",
     "text": [
      "Fitting 5 folds for each of 3 candidates, totalling 15 fits\n"
     ]
    },
    {
     "name": "stderr",
     "output_type": "stream",
     "text": [
      "[Parallel(n_jobs=4)]: Done  15 out of  15 | elapsed:  2.8min finished\n"
     ]
    },
    {
     "name": "stdout",
     "output_type": "stream",
     "text": [
      "每轮迭代运行结果:[mean: 0.50354, std: 0.00986, params: {'max_depth': 5, 'min_child_weight': 3}, mean: 0.50386, std: 0.00999, params: {'max_depth': 5, 'min_child_weight': 4}, mean: 0.50286, std: 0.00949, params: {'max_depth': 5, 'min_child_weight': 5}]\n",
      "参数的最佳取值：{'max_depth': 5, 'min_child_weight': 4}\n",
      "最佳模型得分:0.5038637035403022\n"
     ]
    },
    {
     "name": "stderr",
     "output_type": "stream",
     "text": [
      "D:\\a\\lib\\site-packages\\sklearn\\model_selection\\_search.py:761: DeprecationWarning: The grid_scores_ attribute was deprecated in version 0.18 in favor of the more elaborate cv_results_ attribute. The grid_scores_ attribute will not be available from 0.20\n",
      "  DeprecationWarning)\n"
     ]
    }
   ],
   "source": [
    "cv_params = {'max_depth': [5], 'min_child_weight': [4]}\n",
    "other_params = {'learning_rate': 0.1, 'n_estimators': 400, 'max_depth': 5, 'min_child_weight': 1, 'seed': 0,\n",
    "                 'subsample': 0.8, 'colsample_bytree': 0.8, 'gamma': 0, 'reg_alpha': 0, 'reg_lambda': 1}\n",
    "model = xgb.XGBRegressor(**other_params)\n",
    "optimized_GBM = GridSearchCV(estimator=model, param_grid=cv_params, scoring='r2', cv=5, verbose=1, n_jobs=4)\n",
    "optimized_GBM.fit(X_train, label_train)\n",
    "evalute_result = optimized_GBM.grid_scores_\n",
    "print('每轮迭代运行结果:{0}'.format(evalute_result))\n",
    "print('参数的最佳取值：{0}'.format(optimized_GBM.best_params_))\n",
    "print('最佳模型得分:{0}'.format(optimized_GBM.best_score_))"
   ]
  },
  {
   "cell_type": "markdown",
   "metadata": {
    "collapsed": true
   },
   "source": [
    "3、接着我们就开始调试参数：gamma\n",
    "一个节点分裂的条件是其分裂能够起到降低loss function的作用，gamma 定义loss function降低多少才分裂\n",
    "这个变量使得算法变得保守，它的值取决于 loss function需要被调节"
   ]
  },
  {
   "cell_type": "code",
   "execution_count": 26,
   "metadata": {},
   "outputs": [
    {
     "name": "stdout",
     "output_type": "stream",
     "text": [
      "Fitting 5 folds for each of 6 candidates, totalling 30 fits\n"
     ]
    },
    {
     "name": "stderr",
     "output_type": "stream",
     "text": [
      "[Parallel(n_jobs=4)]: Done  30 out of  30 | elapsed:  5.5min finished\n"
     ]
    },
    {
     "name": "stdout",
     "output_type": "stream",
     "text": [
      "每轮迭代运行结果:[mean: 0.50386, std: 0.00999, params: {'gamma': 0.1}, mean: 0.50386, std: 0.00999, params: {'gamma': 0.2}, mean: 0.50386, std: 0.00999, params: {'gamma': 0.3}, mean: 0.50386, std: 0.00999, params: {'gamma': 0.4}, mean: 0.50386, std: 0.00999, params: {'gamma': 0.5}, mean: 0.50386, std: 0.00999, params: {'gamma': 0.6}]\n",
      "参数的最佳取值：{'gamma': 0.1}\n",
      "最佳模型得分:0.5038637035403022\n"
     ]
    },
    {
     "name": "stderr",
     "output_type": "stream",
     "text": [
      "D:\\a\\lib\\site-packages\\sklearn\\model_selection\\_search.py:761: DeprecationWarning: The grid_scores_ attribute was deprecated in version 0.18 in favor of the more elaborate cv_results_ attribute. The grid_scores_ attribute will not be available from 0.20\n",
      "  DeprecationWarning)\n"
     ]
    }
   ],
   "source": [
    "cv_params = {'gamma': [0.1, 0.2, 0.3, 0.4, 0.5, 0.6]}\n",
    "other_params = {'learning_rate': 0.1, 'n_estimators': 400, 'max_depth': 5, 'min_child_weight': 4, 'seed': 0,\n",
    "                 'subsample': 0.8, 'colsample_bytree': 0.8, 'gamma': 0, 'reg_alpha': 0, 'reg_lambda': 1}\n",
    "model = xgb.XGBRegressor(**other_params)\n",
    "optimized_GBM = GridSearchCV(estimator=model, param_grid=cv_params, scoring='r2', cv=5, verbose=1, n_jobs=4)\n",
    "optimized_GBM.fit(X_train, label_train)\n",
    "evalute_result = optimized_GBM.grid_scores_\n",
    "print('每轮迭代运行结果:{0}'.format(evalute_result))\n",
    "print('参数的最佳取值：{0}'.format(optimized_GBM.best_params_))\n",
    "print('最佳模型得分:{0}'.format(optimized_GBM.best_score_))"
   ]
  },
  {
   "cell_type": "markdown",
   "metadata": {
    "collapsed": true
   },
   "source": [
    "4、接着是subsample以及colsample_bytree：\n",
    "subsample [default=1]： \n",
    "与GBM的subsample定义一样，指的是没有每棵树的样本比例\n",
    "低值使得模型更保守且能防止过拟合，但太低的值会导致欠拟合\n",
    "通常取值范围[0.5-1]\n",
    "colsample_bytree [default=1] \n",
    "与GBM中的max_features类似，指的是每棵树随机选取的特征的比例\n",
    "通常取值范围[0.5-1]"
   ]
  },
  {
   "cell_type": "code",
   "execution_count": 28,
   "metadata": {},
   "outputs": [
    {
     "name": "stdout",
     "output_type": "stream",
     "text": [
      "Fitting 5 folds for each of 6 candidates, totalling 30 fits\n"
     ]
    },
    {
     "name": "stderr",
     "output_type": "stream",
     "text": [
      "[Parallel(n_jobs=4)]: Done  30 out of  30 | elapsed:  5.3min finished\n"
     ]
    },
    {
     "name": "stdout",
     "output_type": "stream",
     "text": [
      "每轮迭代运行结果:[mean: 0.50311, std: 0.00885, params: {'colsample_bytree': 0.6, 'subsample': 0.7}, mean: 0.50304, std: 0.00990, params: {'colsample_bytree': 0.6, 'subsample': 0.8}, mean: 0.50398, std: 0.00980, params: {'colsample_bytree': 0.7, 'subsample': 0.7}, mean: 0.50296, std: 0.01090, params: {'colsample_bytree': 0.7, 'subsample': 0.8}, mean: 0.50305, std: 0.00824, params: {'colsample_bytree': 0.8, 'subsample': 0.7}, mean: 0.50386, std: 0.00999, params: {'colsample_bytree': 0.8, 'subsample': 0.8}]\n",
      "参数的最佳取值：{'colsample_bytree': 0.7, 'subsample': 0.7}\n",
      "最佳模型得分:0.5039832547129584\n"
     ]
    },
    {
     "name": "stderr",
     "output_type": "stream",
     "text": [
      "D:\\a\\lib\\site-packages\\sklearn\\model_selection\\_search.py:761: DeprecationWarning: The grid_scores_ attribute was deprecated in version 0.18 in favor of the more elaborate cv_results_ attribute. The grid_scores_ attribute will not be available from 0.20\n",
      "  DeprecationWarning)\n"
     ]
    }
   ],
   "source": [
    "cv_params = {'subsample': [ 0.7,0.8], 'colsample_bytree': [0.6, 0.7, 0.8]}\n",
    "other_params = {'learning_rate': 0.1, 'n_estimators': 400, 'max_depth': 5, 'min_child_weight': 4, 'seed': 0,\n",
    "                 'subsample': 0.8, 'colsample_bytree': 0.8, 'gamma': 0, 'reg_alpha': 0, 'reg_lambda': 1}\n",
    "model = xgb.XGBRegressor(**other_params)\n",
    "optimized_GBM = GridSearchCV(estimator=model, param_grid=cv_params, scoring='r2', cv=5, verbose=1, n_jobs=4)\n",
    "optimized_GBM.fit(X_train, label_train)\n",
    "evalute_result = optimized_GBM.grid_scores_\n",
    "print('每轮迭代运行结果:{0}'.format(evalute_result))\n",
    "print('参数的最佳取值：{0}'.format(optimized_GBM.best_params_))\n",
    "print('最佳模型得分:{0}'.format(optimized_GBM.best_score_))"
   ]
  },
  {
   "cell_type": "markdown",
   "metadata": {
    "collapsed": true
   },
   "source": [
    "5、紧接着就是：reg_alpha以及reg_lambda：\n",
    "lambda [default=1] \n",
    "l2正则化权重的术语（同 Ridge regression）\n",
    "用于处理XGBoost里的正则化部分，虽然很多数据科学家不怎么使用这个参数，但是它可以用于帮助防止过拟合\n",
    "alpha [default=0] \n",
    "l1正则化的权重术语（同Lasso regression）\n",
    "当特征量特别多的时候可以使用，这样能加快算法的运行效率"
   ]
  },
  {
   "cell_type": "code",
   "execution_count": 29,
   "metadata": {},
   "outputs": [
    {
     "name": "stdout",
     "output_type": "stream",
     "text": [
      "Fitting 5 folds for each of 9 candidates, totalling 45 fits\n"
     ]
    },
    {
     "name": "stderr",
     "output_type": "stream",
     "text": [
      "[Parallel(n_jobs=4)]: Done  45 out of  45 | elapsed:  7.6min finished\n"
     ]
    },
    {
     "name": "stdout",
     "output_type": "stream",
     "text": [
      "每轮迭代运行结果:[mean: 0.50242, std: 0.00899, params: {'reg_alpha': 0.05, 'reg_lambda': 0.05}, mean: 0.50314, std: 0.00997, params: {'reg_alpha': 0.05, 'reg_lambda': 0.1}, mean: 0.50420, std: 0.00903, params: {'reg_alpha': 0.05, 'reg_lambda': 1}, mean: 0.50290, std: 0.00953, params: {'reg_alpha': 0.1, 'reg_lambda': 0.05}, mean: 0.50263, std: 0.00869, params: {'reg_alpha': 0.1, 'reg_lambda': 0.1}, mean: 0.50412, std: 0.00948, params: {'reg_alpha': 0.1, 'reg_lambda': 1}, mean: 0.50299, std: 0.00914, params: {'reg_alpha': 1, 'reg_lambda': 0.05}, mean: 0.50225, std: 0.00929, params: {'reg_alpha': 1, 'reg_lambda': 0.1}, mean: 0.50318, std: 0.00792, params: {'reg_alpha': 1, 'reg_lambda': 1}]\n",
      "参数的最佳取值：{'reg_alpha': 0.05, 'reg_lambda': 1}\n",
      "最佳模型得分:0.5041997066335073\n"
     ]
    },
    {
     "name": "stderr",
     "output_type": "stream",
     "text": [
      "D:\\a\\lib\\site-packages\\sklearn\\model_selection\\_search.py:761: DeprecationWarning: The grid_scores_ attribute was deprecated in version 0.18 in favor of the more elaborate cv_results_ attribute. The grid_scores_ attribute will not be available from 0.20\n",
      "  DeprecationWarning)\n"
     ]
    }
   ],
   "source": [
    "cv_params = {'reg_alpha': [0.05, 0.1, 1], 'reg_lambda': [0.05, 0.1, 1]}\n",
    "other_params = {'learning_rate': 0.1, 'n_estimators': 400, 'max_depth': 5, 'min_child_weight': 4, 'seed': 0,\n",
    "                 'subsample': 0.7, 'colsample_bytree': 0.7, 'gamma': 0, 'reg_alpha': 0, 'reg_lambda': 1}\n",
    "model = xgb.XGBRegressor(**other_params)\n",
    "optimized_GBM = GridSearchCV(estimator=model, param_grid=cv_params, scoring='r2', cv=5, verbose=1, n_jobs=4)\n",
    "optimized_GBM.fit(X_train, label_train)\n",
    "evalute_result = optimized_GBM.grid_scores_\n",
    "print('每轮迭代运行结果:{0}'.format(evalute_result))\n",
    "print('参数的最佳取值：{0}'.format(optimized_GBM.best_params_))\n",
    "print('最佳模型得分:{0}'.format(optimized_GBM.best_score_))"
   ]
  },
  {
   "cell_type": "markdown",
   "metadata": {
    "collapsed": true
   },
   "source": [
    "6、最后就是learning_rate，一般这时候要调小学习率来测试：\n",
    "Python的sklearn的接口中对应命名：eta [default=0.3] \n",
    "与GBM中学习率的概念相似\n",
    "通过减小每一步的权重能够使得建立的模型更鲁棒\n",
    "通常最终的数值范围在[0.01-0.2]之间"
   ]
  },
  {
   "cell_type": "code",
   "execution_count": 31,
   "metadata": {},
   "outputs": [
    {
     "name": "stdout",
     "output_type": "stream",
     "text": [
      "Fitting 5 folds for each of 5 candidates, totalling 25 fits\n"
     ]
    },
    {
     "name": "stderr",
     "output_type": "stream",
     "text": [
      "[Parallel(n_jobs=4)]: Done  25 out of  25 | elapsed:  4.2min finished\n"
     ]
    },
    {
     "name": "stdout",
     "output_type": "stream",
     "text": [
      "每轮迭代运行结果:[mean: 0.33712, std: 0.00720, params: {'learning_rate': 0.01}, mean: 0.50105, std: 0.00809, params: {'learning_rate': 0.05}, mean: 0.50445, std: 0.00865, params: {'learning_rate': 0.07}, mean: 0.50420, std: 0.00903, params: {'learning_rate': 0.1}, mean: 0.48492, std: 0.01180, params: {'learning_rate': 0.2}]\n",
      "参数的最佳取值：{'learning_rate': 0.07}\n",
      "最佳模型得分:0.504449176185137\n"
     ]
    },
    {
     "name": "stderr",
     "output_type": "stream",
     "text": [
      "D:\\a\\lib\\site-packages\\sklearn\\model_selection\\_search.py:761: DeprecationWarning: The grid_scores_ attribute was deprecated in version 0.18 in favor of the more elaborate cv_results_ attribute. The grid_scores_ attribute will not be available from 0.20\n",
      "  DeprecationWarning)\n"
     ]
    }
   ],
   "source": [
    "cv_params = {'learning_rate': [0.01, 0.05, 0.07, 0.1, 0.2]}\n",
    "other_params = {'learning_rate': 0.1, 'n_estimators': 400, 'max_depth': 5, 'min_child_weight': 4, 'seed': 0,\n",
    "                 'subsample': 0.7, 'colsample_bytree': 0.7, 'gamma': 0, 'reg_alpha': 0.05, 'reg_lambda': 1}\n",
    "model = xgb.XGBRegressor(**other_params)\n",
    "optimized_GBM = GridSearchCV(estimator=model, param_grid=cv_params, scoring='r2', cv=5, verbose=1, n_jobs=4)\n",
    "optimized_GBM.fit(X_train, label_train)\n",
    "evalute_result = optimized_GBM.grid_scores_\n",
    "print('每轮迭代运行结果:{0}'.format(evalute_result))\n",
    "print('参数的最佳取值：{0}'.format(optimized_GBM.best_params_))\n",
    "print('最佳模型得分:{0}'.format(optimized_GBM.best_score_))"
   ]
  },
  {
   "cell_type": "code",
   "execution_count": null,
   "metadata": {
    "collapsed": true
   },
   "outputs": [],
   "source": [
    "cv_params = {'learning_rate': [0.005]}\n",
    "other_params = {'n_estimators': 10000, 'max_depth': 10, 'min_child_weight': 4, 'seed': 0,\n",
    "                 'subsample': 0.8, 'colsample_bytree': 0.8}\n",
    "model = xgb.XGBRegressor(**other_params)\n",
    "optimized_GBM = GridSearchCV(estimator=model, param_grid=cv_params, scoring='r2', cv=5, verbose=1, n_jobs=4)\n",
    "optimized_GBM.fit(X_train, label_train)\n",
    "evalute_result = optimized_GBM.grid_scores_\n",
    "print('每轮迭代运行结果:{0}'.format(evalute_result))\n",
    "print('参数的最佳取值：{0}'.format(optimized_GBM.best_params_))\n",
    "print('最佳模型得分:{0}'.format(optimized_GBM.best_score_))"
   ]
  },
  {
   "cell_type": "code",
   "execution_count": 20,
   "metadata": {},
   "outputs": [
    {
     "name": "stdout",
     "output_type": "stream",
     "text": [
      "fold:  0  training\n",
      "[0]\ttrain-mae:574.264\tvalid_data-mae:574.618\n",
      "Multiple eval metrics have been passed: 'valid_data-mae' will be used for early stopping.\n",
      "\n",
      "Will train until valid_data-mae hasn't improved in 100 rounds.\n",
      "[300]\ttrain-mae:21.1576\tvalid_data-mae:22.8089\n",
      "[399]\ttrain-mae:20.6615\tvalid_data-mae:22.7001\n",
      "fold:  1  training\n",
      "[0]\ttrain-mae:574.19\tvalid_data-mae:574.987\n",
      "Multiple eval metrics have been passed: 'valid_data-mae' will be used for early stopping.\n",
      "\n",
      "Will train until valid_data-mae hasn't improved in 100 rounds.\n",
      "[300]\ttrain-mae:21.2598\tvalid_data-mae:22.7656\n",
      "[399]\ttrain-mae:20.7651\tvalid_data-mae:22.6902\n",
      "fold:  2  training\n",
      "[0]\ttrain-mae:574.396\tvalid_data-mae:574.08\n",
      "Multiple eval metrics have been passed: 'valid_data-mae' will be used for early stopping.\n",
      "\n",
      "Will train until valid_data-mae hasn't improved in 100 rounds.\n",
      "[300]\ttrain-mae:21.0901\tvalid_data-mae:23.0606\n",
      "[399]\ttrain-mae:20.6147\tvalid_data-mae:22.9731\n",
      "fold:  3  training\n",
      "[0]\ttrain-mae:574.481\tvalid_data-mae:573.669\n",
      "Multiple eval metrics have been passed: 'valid_data-mae' will be used for early stopping.\n",
      "\n",
      "Will train until valid_data-mae hasn't improved in 100 rounds.\n",
      "[300]\ttrain-mae:21.1924\tvalid_data-mae:22.8339\n",
      "[399]\ttrain-mae:20.7057\tvalid_data-mae:22.7177\n",
      "fold:  4  training\n",
      "[0]\ttrain-mae:574.358\tvalid_data-mae:574.325\n",
      "Multiple eval metrics have been passed: 'valid_data-mae' will be used for early stopping.\n",
      "\n",
      "Will train until valid_data-mae hasn't improved in 100 rounds.\n",
      "[300]\ttrain-mae:21.2505\tvalid_data-mae:22.7827\n",
      "[399]\ttrain-mae:20.7628\tvalid_data-mae:22.7013\n",
      "fold:  0  training\n",
      "[0]\ttrain-mae:574.322\tvalid_data-mae:574.359\n",
      "Multiple eval metrics have been passed: 'valid_data-mae' will be used for early stopping.\n",
      "\n",
      "Will train until valid_data-mae hasn't improved in 100 rounds.\n",
      "[300]\ttrain-mae:21.2532\tvalid_data-mae:22.8033\n",
      "[399]\ttrain-mae:20.7757\tvalid_data-mae:22.7319\n",
      "fold:  1  training\n",
      "[0]\ttrain-mae:574.249\tvalid_data-mae:574.756\n",
      "Multiple eval metrics have been passed: 'valid_data-mae' will be used for early stopping.\n",
      "\n",
      "Will train until valid_data-mae hasn't improved in 100 rounds.\n",
      "[300]\ttrain-mae:21.1646\tvalid_data-mae:22.8659\n",
      "[399]\ttrain-mae:20.7208\tvalid_data-mae:22.7785\n",
      "fold:  2  training\n",
      "[0]\ttrain-mae:574.404\tvalid_data-mae:574.012\n",
      "Multiple eval metrics have been passed: 'valid_data-mae' will be used for early stopping.\n",
      "\n",
      "Will train until valid_data-mae hasn't improved in 100 rounds.\n",
      "[300]\ttrain-mae:21.0677\tvalid_data-mae:23.0617\n",
      "[399]\ttrain-mae:20.6058\tvalid_data-mae:22.9705\n",
      "fold:  3  training\n",
      "[0]\ttrain-mae:574.392\tvalid_data-mae:574.134\n",
      "Multiple eval metrics have been passed: 'valid_data-mae' will be used for early stopping.\n",
      "\n",
      "Will train until valid_data-mae hasn't improved in 100 rounds.\n",
      "[300]\ttrain-mae:21.2425\tvalid_data-mae:22.6977\n",
      "[399]\ttrain-mae:20.7552\tvalid_data-mae:22.6074\n",
      "fold:  4  training\n",
      "[0]\ttrain-mae:574.314\tvalid_data-mae:574.41\n",
      "Multiple eval metrics have been passed: 'valid_data-mae' will be used for early stopping.\n",
      "\n",
      "Will train until valid_data-mae hasn't improved in 100 rounds.\n",
      "[300]\ttrain-mae:21.1947\tvalid_data-mae:22.8382\n",
      "[399]\ttrain-mae:20.7021\tvalid_data-mae:22.7551\n",
      "fold:  0  training\n",
      "[0]\ttrain-mae:574.515\tvalid_data-mae:573.541\n",
      "Multiple eval metrics have been passed: 'valid_data-mae' will be used for early stopping.\n",
      "\n",
      "Will train until valid_data-mae hasn't improved in 100 rounds.\n",
      "[300]\ttrain-mae:21.1506\tvalid_data-mae:22.8919\n",
      "[399]\ttrain-mae:20.6508\tvalid_data-mae:22.7961\n",
      "fold:  1  training\n",
      "[0]\ttrain-mae:574.26\tvalid_data-mae:574.621\n",
      "Multiple eval metrics have been passed: 'valid_data-mae' will be used for early stopping.\n",
      "\n",
      "Will train until valid_data-mae hasn't improved in 100 rounds.\n",
      "[300]\ttrain-mae:21.1848\tvalid_data-mae:23.0249\n",
      "[399]\ttrain-mae:20.7114\tvalid_data-mae:22.9211\n",
      "fold:  2  training\n",
      "[0]\ttrain-mae:574.219\tvalid_data-mae:574.771\n",
      "Multiple eval metrics have been passed: 'valid_data-mae' will be used for early stopping.\n",
      "\n",
      "Will train until valid_data-mae hasn't improved in 100 rounds.\n",
      "[300]\ttrain-mae:21.2042\tvalid_data-mae:22.6789\n",
      "[399]\ttrain-mae:20.688\tvalid_data-mae:22.6137\n",
      "fold:  3  training\n",
      "[0]\ttrain-mae:574.326\tvalid_data-mae:574.33\n",
      "Multiple eval metrics have been passed: 'valid_data-mae' will be used for early stopping.\n",
      "\n",
      "Will train until valid_data-mae hasn't improved in 100 rounds.\n",
      "[300]\ttrain-mae:21.1531\tvalid_data-mae:22.7685\n",
      "[399]\ttrain-mae:20.667\tvalid_data-mae:22.691\n",
      "fold:  4  training\n",
      "[0]\ttrain-mae:574.331\tvalid_data-mae:574.384\n",
      "Multiple eval metrics have been passed: 'valid_data-mae' will be used for early stopping.\n",
      "\n",
      "Will train until valid_data-mae hasn't improved in 100 rounds.\n",
      "[300]\ttrain-mae:21.1709\tvalid_data-mae:22.8577\n",
      "[399]\ttrain-mae:20.6738\tvalid_data-mae:22.7603\n"
     ]
    }
   ],
   "source": [
    "import xgboost as xgb\n",
    "xgb_params={'eta': 0.07, 'max_depth': 5, 'subsample': 0.7, 'colsample_bytree': 0.7, \n",
    "          'objective': 'reg:linear', 'eval_metric': 'mae', 'silent': True, 'nthread': 8,\n",
    "           'gamma': 0, 'reg_alpha': 0.05, 'reg_lambda': 1}\n",
    "from sklearn.model_selection import KFold\n",
    "cv_pred_allxgb=0\n",
    "en_amount=3\n",
    "oof_xgb1=np.zeros(len(train_data))\n",
    "prediction_xgb1=np.zeros(len(test_data))\n",
    "for seed in range(en_amount):\n",
    "    NFOLDS=5\n",
    "    train_label=train_data['信用分']\n",
    "    kfold=KFold(n_splits=NFOLDS, shuffle=True, random_state=seed+2019)\n",
    "    kf=kfold.split(train_data,train_label)\n",
    "    \n",
    "    train_data_use = train_data.drop(['用户编码','信用分'], axis=1)\n",
    "    test_data_use = test_data.drop(['用户编码'], axis=1)\n",
    "    \n",
    "    cv_pred = np.zeros(test_data.shape[0])\n",
    "    valid_best_l2_all = 0\n",
    "    \n",
    "    feature_importance_df = pd.DataFrame()\n",
    "    count = 0\n",
    "    \n",
    "    for i, (train_fold, validate) in enumerate(kf):\n",
    "        print('fold: ',i, ' training')\n",
    "        X_train, X_validate, label_train, label_validate = train_data_use.iloc[train_fold, :], train_data_use.iloc[validate, :], train_label[train_fold], train_label[validate]\n",
    "        dtrain = xgb.DMatrix(X_train, label_train)\n",
    "        dvalid = xgb.DMatrix(X_validate, label_validate)\n",
    "        watchlist = [(dtrain, 'train'), (dvalid, 'valid_data')]\n",
    "        bst = xgb.train(dtrain=dtrain, num_boost_round=400, evals=watchlist, early_stopping_rounds=100, verbose_eval=300, params=xgb_params)\n",
    "        cv_pred += bst.predict(xgb.DMatrix(test_data_use), ntree_limit=bst.best_ntree_limit)\n",
    "        oof_xgb1[validate]=bst.predict(xgb.DMatrix(X_validate),ntree_limit=bst.best_ntree_limit)\n",
    "        prediction_xgb1+=bst.predict(xgb.DMatrix(test_data_use),ntree_limit=bst.best_ntree_limit)/kfold.n_splits\n",
    "        count += 1\n",
    "        \n",
    "    cv_pred /= NFOLDS\n",
    "    cv_pred_allxgb+=cv_pred\n",
    "cv_pred_allxgb /= en_amount\n"
   ]
  },
  {
   "cell_type": "code",
   "execution_count": null,
   "metadata": {
    "collapsed": true
   },
   "outputs": [],
   "source": []
  },
  {
   "cell_type": "code",
   "execution_count": null,
   "metadata": {
    "collapsed": true
   },
   "outputs": [],
   "source": []
  },
  {
   "cell_type": "code",
   "execution_count": null,
   "metadata": {
    "collapsed": true
   },
   "outputs": [],
   "source": []
  },
  {
   "cell_type": "code",
   "execution_count": null,
   "metadata": {
    "collapsed": true
   },
   "outputs": [],
   "source": []
  },
  {
   "cell_type": "code",
   "execution_count": null,
   "metadata": {
    "collapsed": true
   },
   "outputs": [],
   "source": []
  },
  {
   "cell_type": "code",
   "execution_count": 23,
   "metadata": {},
   "outputs": [
    {
     "name": "stderr",
     "output_type": "stream",
     "text": [
      "D:\\a\\lib\\site-packages\\ipykernel_launcher.py:2: SettingWithCopyWarning: \n",
      "A value is trying to be set on a copy of a slice from a DataFrame.\n",
      "Try using .loc[row_indexer,col_indexer] = value instead\n",
      "\n",
      "See the caveats in the documentation: http://pandas.pydata.org/pandas-docs/stable/indexing.html#indexing-view-versus-copy\n",
      "  \n"
     ]
    }
   ],
   "source": [
    "test_data_sub1 = test_data[['用户编码']]\n",
    "test_data_sub1['score'] =  cv_pred_allxgb\n",
    "test_data_sub1.columns = ['id','score']\n",
    "#test_data_sub1['score1'] = cv_pred_all"
   ]
  },
  {
   "cell_type": "code",
   "execution_count": null,
   "metadata": {
    "collapsed": true
   },
   "outputs": [],
   "source": []
  },
  {
   "cell_type": "code",
   "execution_count": null,
   "metadata": {
    "collapsed": true
   },
   "outputs": [],
   "source": []
  },
  {
   "cell_type": "code",
   "execution_count": 24,
   "metadata": {},
   "outputs": [
    {
     "name": "stderr",
     "output_type": "stream",
     "text": [
      "D:\\a\\lib\\site-packages\\ipykernel_launcher.py:1: SettingWithCopyWarning: \n",
      "A value is trying to be set on a copy of a slice from a DataFrame.\n",
      "Try using .loc[row_indexer,col_indexer] = value instead\n",
      "\n",
      "See the caveats in the documentation: http://pandas.pydata.org/pandas-docs/stable/indexing.html#indexing-view-versus-copy\n",
      "  \"\"\"Entry point for launching an IPython kernel.\n"
     ]
    }
   ],
   "source": [
    "test_data_sub1['score'] = test_data_sub1['score'].apply(lambda x: int(np.round(x)))"
   ]
  },
  {
   "cell_type": "code",
   "execution_count": 25,
   "metadata": {},
   "outputs": [
    {
     "data": {
      "text/html": [
       "<div>\n",
       "<style>\n",
       "    .dataframe thead tr:only-child th {\n",
       "        text-align: right;\n",
       "    }\n",
       "\n",
       "    .dataframe thead th {\n",
       "        text-align: left;\n",
       "    }\n",
       "\n",
       "    .dataframe tbody tr th {\n",
       "        vertical-align: top;\n",
       "    }\n",
       "</style>\n",
       "<table border=\"1\" class=\"dataframe\">\n",
       "  <thead>\n",
       "    <tr style=\"text-align: right;\">\n",
       "      <th></th>\n",
       "      <th>id</th>\n",
       "      <th>score</th>\n",
       "    </tr>\n",
       "  </thead>\n",
       "  <tbody>\n",
       "    <tr>\n",
       "      <th>0</th>\n",
       "      <td>7171737d49b143d1b38883a39e4a5730</td>\n",
       "      <td>623</td>\n",
       "    </tr>\n",
       "    <tr>\n",
       "      <th>1</th>\n",
       "      <td>3af0a449d5424488912e8fb2bf4b9faa</td>\n",
       "      <td>516</td>\n",
       "    </tr>\n",
       "    <tr>\n",
       "      <th>2</th>\n",
       "      <td>eb2cf02e0d5c4d1294dd73e776dbb441</td>\n",
       "      <td>641</td>\n",
       "    </tr>\n",
       "    <tr>\n",
       "      <th>3</th>\n",
       "      <td>9c0f780ecb254670a11aa9e3f10777c5</td>\n",
       "      <td>666</td>\n",
       "    </tr>\n",
       "    <tr>\n",
       "      <th>4</th>\n",
       "      <td>d794eed46c1e44f785a575f18b3023a5</td>\n",
       "      <td>649</td>\n",
       "    </tr>\n",
       "  </tbody>\n",
       "</table>\n",
       "</div>"
      ],
      "text/plain": [
       "                                 id  score\n",
       "0  7171737d49b143d1b38883a39e4a5730    623\n",
       "1  3af0a449d5424488912e8fb2bf4b9faa    516\n",
       "2  eb2cf02e0d5c4d1294dd73e776dbb441    641\n",
       "3  9c0f780ecb254670a11aa9e3f10777c5    666\n",
       "4  d794eed46c1e44f785a575f18b3023a5    649"
      ]
     },
     "execution_count": 25,
     "metadata": {},
     "output_type": "execute_result"
    }
   ],
   "source": [
    "test_data_sub1.head()"
   ]
  },
  {
   "cell_type": "code",
   "execution_count": 26,
   "metadata": {
    "collapsed": true
   },
   "outputs": [],
   "source": [
    "test_data_sub1[['id','score']].to_csv('../sub7.csv', index=False)"
   ]
  },
  {
   "cell_type": "code",
   "execution_count": null,
   "metadata": {
    "collapsed": true
   },
   "outputs": [],
   "source": []
  }
 ],
 "metadata": {
  "kernelspec": {
   "display_name": "Python 3",
   "language": "python",
   "name": "python3"
  },
  "language_info": {
   "codemirror_mode": {
    "name": "ipython",
    "version": 3
   },
   "file_extension": ".py",
   "mimetype": "text/x-python",
   "name": "python",
   "nbconvert_exporter": "python",
   "pygments_lexer": "ipython3",
   "version": "3.6.3"
  }
 },
 "nbformat": 4,
 "nbformat_minor": 2
}
